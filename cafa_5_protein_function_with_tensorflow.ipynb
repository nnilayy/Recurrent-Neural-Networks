{
  "metadata": {
    "kernelspec": {
      "display_name": "Python 3",
      "name": "python3"
    },
    "language_info": {
      "name": "python",
      "version": "3.10.10",
      "mimetype": "text/x-python",
      "codemirror_mode": {
        "name": "ipython",
        "version": 3
      },
      "pygments_lexer": "ipython3",
      "nbconvert_exporter": "python",
      "file_extension": ".py"
    },
    "colab": {
      "provenance": [],
      "gpuType": "T4",
      "include_colab_link": true
    },
    "accelerator": "GPU"
  },
  "nbformat_minor": 0,
  "nbformat": 4,
  "cells": [
    {
      "cell_type": "markdown",
      "metadata": {
        "id": "view-in-github",
        "colab_type": "text"
      },
      "source": [
        "<a href=\"https://colab.research.google.com/github/nnilayy/Recurrent-Neural-Networks/blob/main/cafa_5_protein_function_with_tensorflow.ipynb\" target=\"_parent\"><img src=\"https://colab.research.google.com/assets/colab-badge.svg\" alt=\"Open In Colab\"/></a>"
      ]
    },
    {
      "cell_type": "code",
      "source": [
        "# Protein-Sequences: train_sequences.fasta\n",
        "# train_terms.tsv: Ground truth for the proteins in train_sequences.fasta. \n",
        "    # (1)unique protein id\n",
        "    # (2)GO Term id\n",
        "    # (3)In which ontology the term appears\n",
        "\n",
        "# Predict all terms/functions/GO Term IDs of protein sequences. \n",
        "# One Protein Sequence can have many functions/terms\n",
        "# This means that the task at hand is a multi-label classification problem.\n",
        "\n",
        "\n",
        "# To train a machine learning model we cannot use the alphabetical protein sequences intrain_sequences.fasta directly. \n",
        "# First Convert them into a vector format. \n",
        "# In this notebook, we will use embeddings of the protein sequences to train the model. \n",
        "# You can think of protein embeddings to be similar to word embeddings used to train NLP models.\n",
        "\n",
        "\n",
        "# Protein embeddings Captures protein's structural and functional characteristics.\n",
        "# Either train custom ML model to learn the protein embeddings of the protein sequences.\n",
        "# Dataset represents proteins using amino-acid sequences which is a standard approach, Use publicly available pre-trained protein embedding models to generate the embeddings.\n",
        "\n",
        "# used the precalculated protein embeddings created by Sergei Fironov using the Rost Lab's T5 protein language model.\n",
        "\n",
        "# The protein embeddings to be used for training are recorded in train_embeds.npy and the corresponding protein ids are available in train_ids.npy."
      ],
      "metadata": {
        "id": "L_w-lpU3zeyb"
      },
      "execution_count": null,
      "outputs": []
    },
    {
      "cell_type": "markdown",
      "source": [
        "# CAFA 5 protein function Prediction with TensorFlow\n",
        "\n",
        "This notebook walks you through how to train a DNN model using TensorFlow on the CAFA 5 protein function Prediction dataset made available for this competition. \n",
        "\n",
        "The objective of the model is to predict the function(aka **GO term ID**) of a set of proteins based on their amino acid sequences and other data.\n",
        "\n",
        "\n",
        "**Note** : This notebook runs without any GPU. This is because enabling GPUs leaves less RAM memory on the VM and the submission step needs a lot of memory. One point where this would impact is when training the model. With CPU it will take around 2 minutes while on GPU it would take around 30 seconds."
      ],
      "metadata": {
        "papermill": {
          "duration": 0.008875,
          "end_time": "2023-05-09T08:30:09.052999",
          "exception": false,
          "start_time": "2023-05-09T08:30:09.044124",
          "status": "completed"
        },
        "tags": [],
        "id": "nNaJRcIyzeyk"
      }
    },
    {
      "cell_type": "markdown",
      "source": [
        "## About the Data\n",
        "\n",
        "### Protein Sequence\n",
        "\n",
        "Each protein is composed of dozens or hundreds of amino acids that are linked sequentially. Each amino acid in the sequence may be represented by a one-letter or three-letter code. Thus the sequence of a protein is often notated as a string of letters. \n",
        "\n",
        "<img src=\"https://cityu-bioinformatics.netlify.app/img/tools/protein/pro_seq.png\" alt =\"Sequence.png\" style='width: 800px;' >\n",
        "\n",
        "Image source - [https://cityu-bioinformatics.netlify.app/](https://cityu-bioinformatics.netlify.app/too2/new_proteo/pro_seq/)\n",
        "\n",
        "The `train_sequences.fasta` made available for this competitions, contains the sequences for proteins with annotations (labelled proteins)."
      ],
      "metadata": {
        "papermill": {
          "duration": 0.009266,
          "end_time": "2023-05-09T08:30:09.071132",
          "exception": false,
          "start_time": "2023-05-09T08:30:09.061866",
          "status": "completed"
        },
        "tags": [],
        "id": "CL_l9YKEzeyo"
      }
    },
    {
      "cell_type": "markdown",
      "source": [
        "# Gene Ontology\n",
        "\n",
        "We can define the functional properties of a proteins using Gene Ontology(GO). Gene Ontology (GO) describes our understanding of the biological domain with respect to three aspects:\n",
        "1. Molecular Function (MF)\n",
        "2. Biological Process (BP)\n",
        "3. Cellular Component (CC)\n",
        "\n",
        "Read more about Gene Ontology [here](http://geneontology.org/docs/ontology-documentation).\n",
        "\n",
        "File `train_terms.tsv` contains the list of annotated terms (ground truth) for the proteins in `train_sequences.fasta`. In `train_terms.tsv` the first column indicates the protein's UniProt accession ID (unique protein id), the second is the `GO Term ID`, and the third indicates in which ontology the term appears. "
      ],
      "metadata": {
        "papermill": {
          "duration": 0.008355,
          "end_time": "2023-05-09T08:30:09.08863",
          "exception": false,
          "start_time": "2023-05-09T08:30:09.080275",
          "status": "completed"
        },
        "tags": [],
        "id": "zU-Ve6hazeyp"
      }
    },
    {
      "cell_type": "markdown",
      "source": [
        "# Labels of the dataset\n",
        "\n",
        "The objective of our model is to predict the terms (functions) of a protein sequence. One protein sequence can have many functions and can thus be classified into any number of terms. Each term is uniquely identified by a `GO Term ID`. Thus our model has to predict all the `GO Term ID`s for a protein sequence. This means that the task at hand is a multi-label classification problem. "
      ],
      "metadata": {
        "id": "NIdDRJ57zeyq"
      }
    },
    {
      "cell_type": "markdown",
      "source": [
        "\n"
      ],
      "metadata": {
        "papermill": {
          "duration": 0.008308,
          "end_time": "2023-05-09T08:30:09.105539",
          "exception": false,
          "start_time": "2023-05-09T08:30:09.097231",
          "status": "completed"
        },
        "tags": [],
        "id": "vszOl_imzeys"
      }
    },
    {
      "cell_type": "markdown",
      "source": [
        "# Protein embeddings for train and test data\n",
        "\n",
        "To train a machine learning model we cannot use the alphabetical protein sequences in`train_sequences.fasta` directly. They have to be converted into a vector format. In this notebook, we will use embeddings of the protein sequences to train the model. You can think of protein embeddings to be similar to word embeddings used to train NLP models.\n",
        "<!-- Instead, to make calculations and data preparation easier we will use precalculated protein embeddings.\n",
        " -->\n",
        "Protein embeddings are a machine-friendly method of capturing the protein's structural and functional characteristics, mainly through its sequence. One approach is to train a custom ML model to learn the protein embeddings of the protein sequences in the dataset being used in this notebook. Since this dataset represents proteins using amino-acid sequences which is a standard approach, we can use any publicly available pre-trained protein embedding models to generate the embeddings.\n",
        "\n",
        "There are a variety of protein embedding models. To make data preparation easier, we have used the precalculated protein embeddings created by [Sergei Fironov](https://www.kaggle.com/sergeifironov) using the Rost Lab's T5 protein language model in this notebook. The precalculated protein embeddings can be found [here](https://www.kaggle.com/datasets/sergeifironov/t5embeds). We have added this dataset to the notebook along with the dataset made available for the competition.\n",
        "\n",
        "To add this to your enviroment, on the right side panel, click on `Add Data` and search for `t5embeds` (make sure that it's the correct [one](https://www.kaggle.com/datasets/sergeifironov/t5embeds)) and then click on the `+` beside it.\n",
        "\n"
      ],
      "metadata": {
        "papermill": {
          "duration": 0.008548,
          "end_time": "2023-05-09T08:30:09.122603",
          "exception": false,
          "start_time": "2023-05-09T08:30:09.114055",
          "status": "completed"
        },
        "tags": [],
        "id": "gwUNE2Hczeyw"
      }
    },
    {
      "cell_type": "markdown",
      "source": [
        "# Import the Required Libraries"
      ],
      "metadata": {
        "papermill": {
          "duration": 0.009086,
          "end_time": "2023-05-09T08:30:09.140473",
          "exception": false,
          "start_time": "2023-05-09T08:30:09.131387",
          "status": "completed"
        },
        "tags": [],
        "id": "hxL6b_UIzeyy"
      }
    },
    {
      "cell_type": "code",
      "source": [
        "import tensorflow as tf\n",
        "import pandas as pd\n",
        "import numpy as np\n",
        "import seaborn as sns\n",
        "import matplotlib.pyplot as plt\n",
        "import progressbar"
      ],
      "metadata": {
        "papermill": {
          "duration": 9.85331,
          "end_time": "2023-05-09T08:30:19.002985",
          "exception": false,
          "start_time": "2023-05-09T08:30:09.149675",
          "status": "completed"
        },
        "tags": [],
        "execution": {
          "iopub.status.busy": "2023-06-04T13:31:32.197181Z",
          "iopub.execute_input": "2023-06-04T13:31:32.197672Z",
          "iopub.status.idle": "2023-06-04T13:31:42.238034Z",
          "shell.execute_reply.started": "2023-06-04T13:31:32.197636Z",
          "shell.execute_reply": "2023-06-04T13:31:42.236833Z"
        },
        "trusted": true,
        "id": "vUyq5knzzeyz"
      },
      "execution_count": null,
      "outputs": []
    },
    {
      "cell_type": "code",
      "source": [
        "from google.colab import drive \n",
        "drive.mount('/content/drive')"
      ],
      "metadata": {
        "colab": {
          "base_uri": "https://localhost:8080/"
        },
        "id": "IOVFMsfy0SEj",
        "outputId": "aa8244b5-1a36-4158-856f-d571a7441419"
      },
      "execution_count": null,
      "outputs": [
        {
          "output_type": "stream",
          "name": "stdout",
          "text": [
            "Mounted at /content/drive\n"
          ]
        }
      ]
    },
    {
      "cell_type": "code",
      "source": [
        "train_terms=pd.read_csv('/content/drive/MyDrive/cafa-5-protein-function-prediction/Train/train_terms.tsv', sep=\"\\t\")\n",
        "train_terms.head()\n",
        "train_terms.shape"
      ],
      "metadata": {
        "execution": {
          "iopub.status.busy": "2023-06-04T13:31:52.353008Z",
          "iopub.execute_input": "2023-06-04T13:31:52.353431Z",
          "iopub.status.idle": "2023-06-04T13:31:56.485837Z",
          "shell.execute_reply.started": "2023-06-04T13:31:52.353390Z",
          "shell.execute_reply": "2023-06-04T13:31:56.484653Z"
        },
        "trusted": true,
        "id": "EREggHH0zey3"
      },
      "execution_count": null,
      "outputs": []
    },
    {
      "cell_type": "markdown",
      "source": [
        "# Loading the protein embeddings\n",
        "\n",
        "\n",
        "We will now load the pre calculated protein embeddings created by [Sergei Fironov](https://www.kaggle.com/sergeifironov) using the Rost Lab's T5 protein language model.\n",
        "\n",
        "If the `tfembeds` is not yet on the input data of the notebook, you can add it to your enviromentby clicking on `Add Data` and search for `t5embeds` (make sure that it's the correct [one](https://www.kaggle.com/datasets/sergeifironov/t5embeds) ) and then click on the `+` beside it.\n",
        "\n",
        "The protein embeddings to be used for training are recorded in `train_embeds.npy` and the corresponding protein ids are available in `train_ids.npy`."
      ],
      "metadata": {
        "id": "xNKcN2Vtzey4"
      }
    },
    {
      "cell_type": "markdown",
      "source": [
        "First, we will load the protein ids of the protein embeddings in the train dataset contained in `train_ids.npy` into a numpy array."
      ],
      "metadata": {
        "papermill": {
          "duration": 0.009256,
          "end_time": "2023-05-09T08:30:22.867158",
          "exception": false,
          "start_time": "2023-05-09T08:30:22.857902",
          "status": "completed"
        },
        "tags": [],
        "id": "F8mGOvRNzey5"
      }
    },
    {
      "cell_type": "code",
      "source": [
        "train_protein_ids = np.load('/content/drive/MyDrive/t5embeds/train_ids.npy')\n",
        "train_protein_ids_pd=pd.DataFrame(train_protein_ids)\n",
        "train_protein_ids_pd.head(100)"
      ],
      "metadata": {
        "papermill": {
          "duration": 0.067806,
          "end_time": "2023-05-09T08:30:22.944355",
          "exception": false,
          "start_time": "2023-05-09T08:30:22.876549",
          "status": "completed"
        },
        "tags": [],
        "execution": {
          "iopub.status.busy": "2023-06-04T13:32:05.888356Z",
          "iopub.execute_input": "2023-06-04T13:32:05.888762Z",
          "iopub.status.idle": "2023-06-04T13:32:05.978169Z",
          "shell.execute_reply.started": "2023-06-04T13:32:05.888733Z",
          "shell.execute_reply": "2023-06-04T13:32:05.976606Z"
        },
        "trusted": true,
        "colab": {
          "base_uri": "https://localhost:8080/",
          "height": 423
        },
        "id": "mjCXyknszey5",
        "outputId": "d8921e71-ad59-4bc1-e01f-9f4244bd71d0"
      },
      "execution_count": null,
      "outputs": [
        {
          "output_type": "execute_result",
          "data": {
            "text/plain": [
              "             0\n",
              "0       P20536\n",
              "1       O73864\n",
              "2       O95231\n",
              "3   A0A0B4J1F4\n",
              "4       P54366\n",
              "..         ...\n",
              "95  A0A193H396\n",
              "96      P57075\n",
              "97      O22779\n",
              "98      P57790\n",
              "99      Q9Z288\n",
              "\n",
              "[100 rows x 1 columns]"
            ],
            "text/html": [
              "\n",
              "  <div id=\"df-779fb2da-ebb4-4813-8b35-1e02c7eb0e4c\">\n",
              "    <div class=\"colab-df-container\">\n",
              "      <div>\n",
              "<style scoped>\n",
              "    .dataframe tbody tr th:only-of-type {\n",
              "        vertical-align: middle;\n",
              "    }\n",
              "\n",
              "    .dataframe tbody tr th {\n",
              "        vertical-align: top;\n",
              "    }\n",
              "\n",
              "    .dataframe thead th {\n",
              "        text-align: right;\n",
              "    }\n",
              "</style>\n",
              "<table border=\"1\" class=\"dataframe\">\n",
              "  <thead>\n",
              "    <tr style=\"text-align: right;\">\n",
              "      <th></th>\n",
              "      <th>0</th>\n",
              "    </tr>\n",
              "  </thead>\n",
              "  <tbody>\n",
              "    <tr>\n",
              "      <th>0</th>\n",
              "      <td>P20536</td>\n",
              "    </tr>\n",
              "    <tr>\n",
              "      <th>1</th>\n",
              "      <td>O73864</td>\n",
              "    </tr>\n",
              "    <tr>\n",
              "      <th>2</th>\n",
              "      <td>O95231</td>\n",
              "    </tr>\n",
              "    <tr>\n",
              "      <th>3</th>\n",
              "      <td>A0A0B4J1F4</td>\n",
              "    </tr>\n",
              "    <tr>\n",
              "      <th>4</th>\n",
              "      <td>P54366</td>\n",
              "    </tr>\n",
              "    <tr>\n",
              "      <th>...</th>\n",
              "      <td>...</td>\n",
              "    </tr>\n",
              "    <tr>\n",
              "      <th>95</th>\n",
              "      <td>A0A193H396</td>\n",
              "    </tr>\n",
              "    <tr>\n",
              "      <th>96</th>\n",
              "      <td>P57075</td>\n",
              "    </tr>\n",
              "    <tr>\n",
              "      <th>97</th>\n",
              "      <td>O22779</td>\n",
              "    </tr>\n",
              "    <tr>\n",
              "      <th>98</th>\n",
              "      <td>P57790</td>\n",
              "    </tr>\n",
              "    <tr>\n",
              "      <th>99</th>\n",
              "      <td>Q9Z288</td>\n",
              "    </tr>\n",
              "  </tbody>\n",
              "</table>\n",
              "<p>100 rows × 1 columns</p>\n",
              "</div>\n",
              "      <button class=\"colab-df-convert\" onclick=\"convertToInteractive('df-779fb2da-ebb4-4813-8b35-1e02c7eb0e4c')\"\n",
              "              title=\"Convert this dataframe to an interactive table.\"\n",
              "              style=\"display:none;\">\n",
              "        \n",
              "  <svg xmlns=\"http://www.w3.org/2000/svg\" height=\"24px\"viewBox=\"0 0 24 24\"\n",
              "       width=\"24px\">\n",
              "    <path d=\"M0 0h24v24H0V0z\" fill=\"none\"/>\n",
              "    <path d=\"M18.56 5.44l.94 2.06.94-2.06 2.06-.94-2.06-.94-.94-2.06-.94 2.06-2.06.94zm-11 1L8.5 8.5l.94-2.06 2.06-.94-2.06-.94L8.5 2.5l-.94 2.06-2.06.94zm10 10l.94 2.06.94-2.06 2.06-.94-2.06-.94-.94-2.06-.94 2.06-2.06.94z\"/><path d=\"M17.41 7.96l-1.37-1.37c-.4-.4-.92-.59-1.43-.59-.52 0-1.04.2-1.43.59L10.3 9.45l-7.72 7.72c-.78.78-.78 2.05 0 2.83L4 21.41c.39.39.9.59 1.41.59.51 0 1.02-.2 1.41-.59l7.78-7.78 2.81-2.81c.8-.78.8-2.07 0-2.86zM5.41 20L4 18.59l7.72-7.72 1.47 1.35L5.41 20z\"/>\n",
              "  </svg>\n",
              "      </button>\n",
              "      \n",
              "  <style>\n",
              "    .colab-df-container {\n",
              "      display:flex;\n",
              "      flex-wrap:wrap;\n",
              "      gap: 12px;\n",
              "    }\n",
              "\n",
              "    .colab-df-convert {\n",
              "      background-color: #E8F0FE;\n",
              "      border: none;\n",
              "      border-radius: 50%;\n",
              "      cursor: pointer;\n",
              "      display: none;\n",
              "      fill: #1967D2;\n",
              "      height: 32px;\n",
              "      padding: 0 0 0 0;\n",
              "      width: 32px;\n",
              "    }\n",
              "\n",
              "    .colab-df-convert:hover {\n",
              "      background-color: #E2EBFA;\n",
              "      box-shadow: 0px 1px 2px rgba(60, 64, 67, 0.3), 0px 1px 3px 1px rgba(60, 64, 67, 0.15);\n",
              "      fill: #174EA6;\n",
              "    }\n",
              "\n",
              "    [theme=dark] .colab-df-convert {\n",
              "      background-color: #3B4455;\n",
              "      fill: #D2E3FC;\n",
              "    }\n",
              "\n",
              "    [theme=dark] .colab-df-convert:hover {\n",
              "      background-color: #434B5C;\n",
              "      box-shadow: 0px 1px 3px 1px rgba(0, 0, 0, 0.15);\n",
              "      filter: drop-shadow(0px 1px 2px rgba(0, 0, 0, 0.3));\n",
              "      fill: #FFFFFF;\n",
              "    }\n",
              "  </style>\n",
              "\n",
              "      <script>\n",
              "        const buttonEl =\n",
              "          document.querySelector('#df-779fb2da-ebb4-4813-8b35-1e02c7eb0e4c button.colab-df-convert');\n",
              "        buttonEl.style.display =\n",
              "          google.colab.kernel.accessAllowed ? 'block' : 'none';\n",
              "\n",
              "        async function convertToInteractive(key) {\n",
              "          const element = document.querySelector('#df-779fb2da-ebb4-4813-8b35-1e02c7eb0e4c');\n",
              "          const dataTable =\n",
              "            await google.colab.kernel.invokeFunction('convertToInteractive',\n",
              "                                                     [key], {});\n",
              "          if (!dataTable) return;\n",
              "\n",
              "          const docLinkHtml = 'Like what you see? Visit the ' +\n",
              "            '<a target=\"_blank\" href=https://colab.research.google.com/notebooks/data_table.ipynb>data table notebook</a>'\n",
              "            + ' to learn more about interactive tables.';\n",
              "          element.innerHTML = '';\n",
              "          dataTable['output_type'] = 'display_data';\n",
              "          await google.colab.output.renderOutput(dataTable, element);\n",
              "          const docLink = document.createElement('div');\n",
              "          docLink.innerHTML = docLinkHtml;\n",
              "          element.appendChild(docLink);\n",
              "        }\n",
              "      </script>\n",
              "    </div>\n",
              "  </div>\n",
              "  "
            ]
          },
          "metadata": {},
          "execution_count": 4
        }
      ]
    },
    {
      "cell_type": "markdown",
      "source": [
        "<!-- Now, we will load`train_embeds.py` which contains the pre-calculated embeddings of the proteins in the train dataset. with protein_ids (`id`s we loaded previously from the **train_ids.npy**) into a numpy array. This array now contains the precalculated embeddings for the protein_ids( Ids we loaded above from **train_ids.npy**) needed for training. -->\n",
        "\n",
        "After loading the files as numpy arrays, we will convert them into Pandas dataframe.\n",
        "\n",
        "Each protein embedding is a vector of length 1024. We create the resulting dataframe such that there are 1024 columns to represent the values in each of the 1024 places in the vector."
      ],
      "metadata": {
        "papermill": {
          "duration": 0.009375,
          "end_time": "2023-05-09T08:30:23.011402",
          "exception": false,
          "start_time": "2023-05-09T08:30:23.002027",
          "status": "completed"
        },
        "tags": [],
        "id": "CgxEPFGPzey5"
      }
    },
    {
      "cell_type": "code",
      "source": [
        "train_embeddings = np.load('/content/drive/MyDrive/t5embeds/train_embeds.npy')\n",
        "column_num = train_embeddings.shape[1]\n",
        "train_df  = pd.DataFrame(train_embeddings, columns = [\"Column_\" + str(i) for i in range(1, column_num+1)])\n",
        "train_df.head()"
      ],
      "metadata": {
        "papermill": {
          "duration": 9.719957,
          "end_time": "2023-05-09T08:30:32.741095",
          "exception": false,
          "start_time": "2023-05-09T08:30:23.021138",
          "status": "completed"
        },
        "tags": [],
        "execution": {
          "iopub.status.busy": "2023-06-04T13:32:08.453584Z",
          "iopub.execute_input": "2023-06-04T13:32:08.454020Z",
          "iopub.status.idle": "2023-06-04T13:32:20.232911Z",
          "shell.execute_reply.started": "2023-06-04T13:32:08.453991Z",
          "shell.execute_reply": "2023-06-04T13:32:20.231607Z"
        },
        "trusted": true,
        "colab": {
          "base_uri": "https://localhost:8080/",
          "height": 299
        },
        "id": "mXdEBGCRzey6",
        "outputId": "2a03e6ec-9eae-4bd4-b293-57851c87c34a"
      },
      "execution_count": null,
      "outputs": [
        {
          "output_type": "execute_result",
          "data": {
            "text/plain": [
              "   Column_1  Column_2  Column_3  Column_4  Column_5  Column_6  Column_7  \\\n",
              "0  0.049488 -0.032935  0.032473 -0.033723 -0.059505  0.075936 -0.045860   \n",
              "1 -0.044616  0.064925 -0.080263 -0.075338 -0.004731  0.025408 -0.024685   \n",
              "2 -0.020128 -0.049779  0.007894 -0.000829 -0.047737  0.086453 -0.038107   \n",
              "3 -0.007515  0.060628  0.004045  0.027056 -0.021542  0.010380 -0.025064   \n",
              "4  0.013468  0.041516  0.018435 -0.035595  0.008770  0.018699 -0.015452   \n",
              "\n",
              "   Column_8  Column_9  Column_10  ...  Column_1015  Column_1016  Column_1017  \\\n",
              "0 -0.104476 -0.072112   0.038806  ...    -0.046516    -0.028773    -0.021878   \n",
              "1 -0.016568 -0.038980  -0.033870  ...    -0.040173     0.003925     0.006130   \n",
              "2 -0.036379  0.029611   0.045029  ...     0.029388     0.008456     0.000697   \n",
              "3 -0.055834  0.068238   0.027764  ...     0.020792     0.023307     0.009009   \n",
              "4 -0.038092 -0.038326  -0.012299  ...    -0.044742    -0.025432    -0.060886   \n",
              "\n",
              "   Column_1018  Column_1019  Column_1020  Column_1021  Column_1022  \\\n",
              "0    -0.097883     0.056475     0.080950    -0.020938    -0.043532   \n",
              "1     0.007362    -0.066848     0.106882    -0.030134     0.026724   \n",
              "2     0.013502    -0.005968    -0.011571     0.005704    -0.036103   \n",
              "3     0.018211     0.020820    -0.031738     0.013279    -0.018357   \n",
              "4    -0.026915     0.026342     0.017237     0.014731    -0.016861   \n",
              "\n",
              "   Column_1023  Column_1024  \n",
              "0     0.096463     0.073070  \n",
              "1     0.027879    -0.048430  \n",
              "2     0.007693     0.106234  \n",
              "3     0.008087     0.010917  \n",
              "4    -0.016272     0.037054  \n",
              "\n",
              "[5 rows x 1024 columns]"
            ],
            "text/html": [
              "\n",
              "  <div id=\"df-1e473c6b-4afb-46ea-85e3-5ba41afdcd9f\">\n",
              "    <div class=\"colab-df-container\">\n",
              "      <div>\n",
              "<style scoped>\n",
              "    .dataframe tbody tr th:only-of-type {\n",
              "        vertical-align: middle;\n",
              "    }\n",
              "\n",
              "    .dataframe tbody tr th {\n",
              "        vertical-align: top;\n",
              "    }\n",
              "\n",
              "    .dataframe thead th {\n",
              "        text-align: right;\n",
              "    }\n",
              "</style>\n",
              "<table border=\"1\" class=\"dataframe\">\n",
              "  <thead>\n",
              "    <tr style=\"text-align: right;\">\n",
              "      <th></th>\n",
              "      <th>Column_1</th>\n",
              "      <th>Column_2</th>\n",
              "      <th>Column_3</th>\n",
              "      <th>Column_4</th>\n",
              "      <th>Column_5</th>\n",
              "      <th>Column_6</th>\n",
              "      <th>Column_7</th>\n",
              "      <th>Column_8</th>\n",
              "      <th>Column_9</th>\n",
              "      <th>Column_10</th>\n",
              "      <th>...</th>\n",
              "      <th>Column_1015</th>\n",
              "      <th>Column_1016</th>\n",
              "      <th>Column_1017</th>\n",
              "      <th>Column_1018</th>\n",
              "      <th>Column_1019</th>\n",
              "      <th>Column_1020</th>\n",
              "      <th>Column_1021</th>\n",
              "      <th>Column_1022</th>\n",
              "      <th>Column_1023</th>\n",
              "      <th>Column_1024</th>\n",
              "    </tr>\n",
              "  </thead>\n",
              "  <tbody>\n",
              "    <tr>\n",
              "      <th>0</th>\n",
              "      <td>0.049488</td>\n",
              "      <td>-0.032935</td>\n",
              "      <td>0.032473</td>\n",
              "      <td>-0.033723</td>\n",
              "      <td>-0.059505</td>\n",
              "      <td>0.075936</td>\n",
              "      <td>-0.045860</td>\n",
              "      <td>-0.104476</td>\n",
              "      <td>-0.072112</td>\n",
              "      <td>0.038806</td>\n",
              "      <td>...</td>\n",
              "      <td>-0.046516</td>\n",
              "      <td>-0.028773</td>\n",
              "      <td>-0.021878</td>\n",
              "      <td>-0.097883</td>\n",
              "      <td>0.056475</td>\n",
              "      <td>0.080950</td>\n",
              "      <td>-0.020938</td>\n",
              "      <td>-0.043532</td>\n",
              "      <td>0.096463</td>\n",
              "      <td>0.073070</td>\n",
              "    </tr>\n",
              "    <tr>\n",
              "      <th>1</th>\n",
              "      <td>-0.044616</td>\n",
              "      <td>0.064925</td>\n",
              "      <td>-0.080263</td>\n",
              "      <td>-0.075338</td>\n",
              "      <td>-0.004731</td>\n",
              "      <td>0.025408</td>\n",
              "      <td>-0.024685</td>\n",
              "      <td>-0.016568</td>\n",
              "      <td>-0.038980</td>\n",
              "      <td>-0.033870</td>\n",
              "      <td>...</td>\n",
              "      <td>-0.040173</td>\n",
              "      <td>0.003925</td>\n",
              "      <td>0.006130</td>\n",
              "      <td>0.007362</td>\n",
              "      <td>-0.066848</td>\n",
              "      <td>0.106882</td>\n",
              "      <td>-0.030134</td>\n",
              "      <td>0.026724</td>\n",
              "      <td>0.027879</td>\n",
              "      <td>-0.048430</td>\n",
              "    </tr>\n",
              "    <tr>\n",
              "      <th>2</th>\n",
              "      <td>-0.020128</td>\n",
              "      <td>-0.049779</td>\n",
              "      <td>0.007894</td>\n",
              "      <td>-0.000829</td>\n",
              "      <td>-0.047737</td>\n",
              "      <td>0.086453</td>\n",
              "      <td>-0.038107</td>\n",
              "      <td>-0.036379</td>\n",
              "      <td>0.029611</td>\n",
              "      <td>0.045029</td>\n",
              "      <td>...</td>\n",
              "      <td>0.029388</td>\n",
              "      <td>0.008456</td>\n",
              "      <td>0.000697</td>\n",
              "      <td>0.013502</td>\n",
              "      <td>-0.005968</td>\n",
              "      <td>-0.011571</td>\n",
              "      <td>0.005704</td>\n",
              "      <td>-0.036103</td>\n",
              "      <td>0.007693</td>\n",
              "      <td>0.106234</td>\n",
              "    </tr>\n",
              "    <tr>\n",
              "      <th>3</th>\n",
              "      <td>-0.007515</td>\n",
              "      <td>0.060628</td>\n",
              "      <td>0.004045</td>\n",
              "      <td>0.027056</td>\n",
              "      <td>-0.021542</td>\n",
              "      <td>0.010380</td>\n",
              "      <td>-0.025064</td>\n",
              "      <td>-0.055834</td>\n",
              "      <td>0.068238</td>\n",
              "      <td>0.027764</td>\n",
              "      <td>...</td>\n",
              "      <td>0.020792</td>\n",
              "      <td>0.023307</td>\n",
              "      <td>0.009009</td>\n",
              "      <td>0.018211</td>\n",
              "      <td>0.020820</td>\n",
              "      <td>-0.031738</td>\n",
              "      <td>0.013279</td>\n",
              "      <td>-0.018357</td>\n",
              "      <td>0.008087</td>\n",
              "      <td>0.010917</td>\n",
              "    </tr>\n",
              "    <tr>\n",
              "      <th>4</th>\n",
              "      <td>0.013468</td>\n",
              "      <td>0.041516</td>\n",
              "      <td>0.018435</td>\n",
              "      <td>-0.035595</td>\n",
              "      <td>0.008770</td>\n",
              "      <td>0.018699</td>\n",
              "      <td>-0.015452</td>\n",
              "      <td>-0.038092</td>\n",
              "      <td>-0.038326</td>\n",
              "      <td>-0.012299</td>\n",
              "      <td>...</td>\n",
              "      <td>-0.044742</td>\n",
              "      <td>-0.025432</td>\n",
              "      <td>-0.060886</td>\n",
              "      <td>-0.026915</td>\n",
              "      <td>0.026342</td>\n",
              "      <td>0.017237</td>\n",
              "      <td>0.014731</td>\n",
              "      <td>-0.016861</td>\n",
              "      <td>-0.016272</td>\n",
              "      <td>0.037054</td>\n",
              "    </tr>\n",
              "  </tbody>\n",
              "</table>\n",
              "<p>5 rows × 1024 columns</p>\n",
              "</div>\n",
              "      <button class=\"colab-df-convert\" onclick=\"convertToInteractive('df-1e473c6b-4afb-46ea-85e3-5ba41afdcd9f')\"\n",
              "              title=\"Convert this dataframe to an interactive table.\"\n",
              "              style=\"display:none;\">\n",
              "        \n",
              "  <svg xmlns=\"http://www.w3.org/2000/svg\" height=\"24px\"viewBox=\"0 0 24 24\"\n",
              "       width=\"24px\">\n",
              "    <path d=\"M0 0h24v24H0V0z\" fill=\"none\"/>\n",
              "    <path d=\"M18.56 5.44l.94 2.06.94-2.06 2.06-.94-2.06-.94-.94-2.06-.94 2.06-2.06.94zm-11 1L8.5 8.5l.94-2.06 2.06-.94-2.06-.94L8.5 2.5l-.94 2.06-2.06.94zm10 10l.94 2.06.94-2.06 2.06-.94-2.06-.94-.94-2.06-.94 2.06-2.06.94z\"/><path d=\"M17.41 7.96l-1.37-1.37c-.4-.4-.92-.59-1.43-.59-.52 0-1.04.2-1.43.59L10.3 9.45l-7.72 7.72c-.78.78-.78 2.05 0 2.83L4 21.41c.39.39.9.59 1.41.59.51 0 1.02-.2 1.41-.59l7.78-7.78 2.81-2.81c.8-.78.8-2.07 0-2.86zM5.41 20L4 18.59l7.72-7.72 1.47 1.35L5.41 20z\"/>\n",
              "  </svg>\n",
              "      </button>\n",
              "      \n",
              "  <style>\n",
              "    .colab-df-container {\n",
              "      display:flex;\n",
              "      flex-wrap:wrap;\n",
              "      gap: 12px;\n",
              "    }\n",
              "\n",
              "    .colab-df-convert {\n",
              "      background-color: #E8F0FE;\n",
              "      border: none;\n",
              "      border-radius: 50%;\n",
              "      cursor: pointer;\n",
              "      display: none;\n",
              "      fill: #1967D2;\n",
              "      height: 32px;\n",
              "      padding: 0 0 0 0;\n",
              "      width: 32px;\n",
              "    }\n",
              "\n",
              "    .colab-df-convert:hover {\n",
              "      background-color: #E2EBFA;\n",
              "      box-shadow: 0px 1px 2px rgba(60, 64, 67, 0.3), 0px 1px 3px 1px rgba(60, 64, 67, 0.15);\n",
              "      fill: #174EA6;\n",
              "    }\n",
              "\n",
              "    [theme=dark] .colab-df-convert {\n",
              "      background-color: #3B4455;\n",
              "      fill: #D2E3FC;\n",
              "    }\n",
              "\n",
              "    [theme=dark] .colab-df-convert:hover {\n",
              "      background-color: #434B5C;\n",
              "      box-shadow: 0px 1px 3px 1px rgba(0, 0, 0, 0.15);\n",
              "      filter: drop-shadow(0px 1px 2px rgba(0, 0, 0, 0.3));\n",
              "      fill: #FFFFFF;\n",
              "    }\n",
              "  </style>\n",
              "\n",
              "      <script>\n",
              "        const buttonEl =\n",
              "          document.querySelector('#df-1e473c6b-4afb-46ea-85e3-5ba41afdcd9f button.colab-df-convert');\n",
              "        buttonEl.style.display =\n",
              "          google.colab.kernel.accessAllowed ? 'block' : 'none';\n",
              "\n",
              "        async function convertToInteractive(key) {\n",
              "          const element = document.querySelector('#df-1e473c6b-4afb-46ea-85e3-5ba41afdcd9f');\n",
              "          const dataTable =\n",
              "            await google.colab.kernel.invokeFunction('convertToInteractive',\n",
              "                                                     [key], {});\n",
              "          if (!dataTable) return;\n",
              "\n",
              "          const docLinkHtml = 'Like what you see? Visit the ' +\n",
              "            '<a target=\"_blank\" href=https://colab.research.google.com/notebooks/data_table.ipynb>data table notebook</a>'\n",
              "            + ' to learn more about interactive tables.';\n",
              "          element.innerHTML = '';\n",
              "          dataTable['output_type'] = 'display_data';\n",
              "          await google.colab.output.renderOutput(dataTable, element);\n",
              "          const docLink = document.createElement('div');\n",
              "          docLink.innerHTML = docLinkHtml;\n",
              "          element.appendChild(docLink);\n",
              "        }\n",
              "      </script>\n",
              "    </div>\n",
              "  </div>\n",
              "  "
            ]
          },
          "metadata": {},
          "execution_count": 5
        }
      ]
    },
    {
      "cell_type": "markdown",
      "source": [
        "# Prepare the dataset\n",
        "\n",
        "Reference: https://www.kaggle.com/code/alexandervc/baseline-multilabel-to-multitarget-binary"
      ],
      "metadata": {
        "papermill": {
          "duration": 0.009208,
          "end_time": "2023-05-09T08:30:32.825978",
          "exception": false,
          "start_time": "2023-05-09T08:30:32.81677",
          "status": "completed"
        },
        "tags": [],
        "id": "N_pN88jZzey6"
      }
    },
    {
      "cell_type": "markdown",
      "source": [
        "First we will extract all the needed labels(`GO term ID`) from `train_terms.tsv` file. There are more than 40,000 labels. In order to simplify our model, we will choose the most frequent 1500 `GO term ID`s as labels."
      ],
      "metadata": {
        "papermill": {
          "duration": 0.009674,
          "end_time": "2023-05-09T08:30:32.845065",
          "exception": false,
          "start_time": "2023-05-09T08:30:32.835391",
          "status": "completed"
        },
        "tags": [],
        "id": "bT3ukzJfzey6"
      }
    },
    {
      "cell_type": "markdown",
      "source": [
        "Let's plot the most frequent 100 `GO Term ID`s in `train_terms.tsv`."
      ],
      "metadata": {
        "papermill": {
          "duration": 0.009238,
          "end_time": "2023-05-09T08:30:32.863785",
          "exception": false,
          "start_time": "2023-05-09T08:30:32.854547",
          "status": "completed"
        },
        "tags": [],
        "id": "2TLvnzGpzey6"
      }
    },
    {
      "cell_type": "code",
      "source": [
        "# Extracting Go IDs\n",
        "num_of_labels = 1500\n",
        "labels = train_terms['term'].value_counts().index\n",
        "labels=labels[:num_of_labels]\n",
        "labels"
      ],
      "metadata": {
        "papermill": {
          "duration": 0.523976,
          "end_time": "2023-05-09T08:30:35.021974",
          "exception": false,
          "start_time": "2023-05-09T08:30:34.497998",
          "status": "completed"
        },
        "tags": [],
        "execution": {
          "iopub.status.busy": "2023-06-04T13:32:28.622923Z",
          "iopub.execute_input": "2023-06-04T13:32:28.623372Z",
          "iopub.status.idle": "2023-06-04T13:32:29.666089Z",
          "shell.execute_reply.started": "2023-06-04T13:32:28.623325Z",
          "shell.execute_reply": "2023-06-04T13:32:29.664746Z"
        },
        "trusted": true,
        "colab": {
          "base_uri": "https://localhost:8080/"
        },
        "id": "1GvbX1Ttzey7",
        "outputId": "e9e747b5-de25-4781-fb97-11ff814c45bc"
      },
      "execution_count": null,
      "outputs": [
        {
          "output_type": "execute_result",
          "data": {
            "text/plain": [
              "Index(['GO:0005575', 'GO:0008150', 'GO:0110165', 'GO:0003674', 'GO:0005622',\n",
              "       'GO:0009987', 'GO:0043226', 'GO:0043229', 'GO:0005488', 'GO:0043227',\n",
              "       ...\n",
              "       'GO:0034250', 'GO:0140053', 'GO:0031345', 'GO:0098802', 'GO:0045861',\n",
              "       'GO:0051783', 'GO:0031674', 'GO:0001818', 'GO:0006874', 'GO:0016887'],\n",
              "      dtype='object', length=1500)"
            ]
          },
          "metadata": {},
          "execution_count": 6
        }
      ]
    },
    {
      "cell_type": "markdown",
      "source": [
        "Next, we will create a new dataframe by filtering the train terms with the selected `GO Term ID`s."
      ],
      "metadata": {
        "papermill": {
          "duration": 0.009833,
          "end_time": "2023-05-09T08:30:35.042088",
          "exception": false,
          "start_time": "2023-05-09T08:30:35.032255",
          "status": "completed"
        },
        "tags": [],
        "id": "i2NRGNXWzey7"
      }
    },
    {
      "cell_type": "code",
      "source": [
        "# Extracting the dataset which contains the top 1500(labels) GO terms\n",
        "train_terms_updated = train_terms.loc[train_terms['term'].isin(labels)]\n",
        "train_terms_updated=train_terms_updated.reset_index(drop=True)\n",
        "train_terms_updated"
      ],
      "metadata": {
        "papermill": {
          "duration": 0.668657,
          "end_time": "2023-05-09T08:30:35.720953",
          "exception": false,
          "start_time": "2023-05-09T08:30:35.052296",
          "status": "completed"
        },
        "tags": [],
        "execution": {
          "iopub.status.busy": "2023-06-04T13:33:03.390580Z",
          "iopub.execute_input": "2023-06-04T13:33:03.390994Z",
          "iopub.status.idle": "2023-06-04T13:33:04.540090Z",
          "shell.execute_reply.started": "2023-06-04T13:33:03.390961Z",
          "shell.execute_reply": "2023-06-04T13:33:04.538983Z"
        },
        "trusted": true,
        "colab": {
          "base_uri": "https://localhost:8080/",
          "height": 423
        },
        "id": "pzPII5bczey7",
        "outputId": "819adb18-23db-4ac2-9cdd-993e694afe7e"
      },
      "execution_count": null,
      "outputs": [
        {
          "output_type": "execute_result",
          "data": {
            "text/plain": [
              "            EntryID        term aspect\n",
              "0        A0A009IHW8  GO:0008152    BPO\n",
              "1        A0A009IHW8  GO:0034655    BPO\n",
              "2        A0A009IHW8  GO:0044270    BPO\n",
              "3        A0A009IHW8  GO:0006753    BPO\n",
              "4        A0A009IHW8  GO:0044237    BPO\n",
              "...             ...         ...    ...\n",
              "4420732      X5L565  GO:0003674    MFO\n",
              "4420733      X5L565  GO:0016491    MFO\n",
              "4420734      X5M5N0  GO:0005515    MFO\n",
              "4420735      X5M5N0  GO:0005488    MFO\n",
              "4420736      X5M5N0  GO:0003674    MFO\n",
              "\n",
              "[4420737 rows x 3 columns]"
            ],
            "text/html": [
              "\n",
              "  <div id=\"df-9cca2526-ba7b-47c2-bedb-d5b80ae51808\">\n",
              "    <div class=\"colab-df-container\">\n",
              "      <div>\n",
              "<style scoped>\n",
              "    .dataframe tbody tr th:only-of-type {\n",
              "        vertical-align: middle;\n",
              "    }\n",
              "\n",
              "    .dataframe tbody tr th {\n",
              "        vertical-align: top;\n",
              "    }\n",
              "\n",
              "    .dataframe thead th {\n",
              "        text-align: right;\n",
              "    }\n",
              "</style>\n",
              "<table border=\"1\" class=\"dataframe\">\n",
              "  <thead>\n",
              "    <tr style=\"text-align: right;\">\n",
              "      <th></th>\n",
              "      <th>EntryID</th>\n",
              "      <th>term</th>\n",
              "      <th>aspect</th>\n",
              "    </tr>\n",
              "  </thead>\n",
              "  <tbody>\n",
              "    <tr>\n",
              "      <th>0</th>\n",
              "      <td>A0A009IHW8</td>\n",
              "      <td>GO:0008152</td>\n",
              "      <td>BPO</td>\n",
              "    </tr>\n",
              "    <tr>\n",
              "      <th>1</th>\n",
              "      <td>A0A009IHW8</td>\n",
              "      <td>GO:0034655</td>\n",
              "      <td>BPO</td>\n",
              "    </tr>\n",
              "    <tr>\n",
              "      <th>2</th>\n",
              "      <td>A0A009IHW8</td>\n",
              "      <td>GO:0044270</td>\n",
              "      <td>BPO</td>\n",
              "    </tr>\n",
              "    <tr>\n",
              "      <th>3</th>\n",
              "      <td>A0A009IHW8</td>\n",
              "      <td>GO:0006753</td>\n",
              "      <td>BPO</td>\n",
              "    </tr>\n",
              "    <tr>\n",
              "      <th>4</th>\n",
              "      <td>A0A009IHW8</td>\n",
              "      <td>GO:0044237</td>\n",
              "      <td>BPO</td>\n",
              "    </tr>\n",
              "    <tr>\n",
              "      <th>...</th>\n",
              "      <td>...</td>\n",
              "      <td>...</td>\n",
              "      <td>...</td>\n",
              "    </tr>\n",
              "    <tr>\n",
              "      <th>4420732</th>\n",
              "      <td>X5L565</td>\n",
              "      <td>GO:0003674</td>\n",
              "      <td>MFO</td>\n",
              "    </tr>\n",
              "    <tr>\n",
              "      <th>4420733</th>\n",
              "      <td>X5L565</td>\n",
              "      <td>GO:0016491</td>\n",
              "      <td>MFO</td>\n",
              "    </tr>\n",
              "    <tr>\n",
              "      <th>4420734</th>\n",
              "      <td>X5M5N0</td>\n",
              "      <td>GO:0005515</td>\n",
              "      <td>MFO</td>\n",
              "    </tr>\n",
              "    <tr>\n",
              "      <th>4420735</th>\n",
              "      <td>X5M5N0</td>\n",
              "      <td>GO:0005488</td>\n",
              "      <td>MFO</td>\n",
              "    </tr>\n",
              "    <tr>\n",
              "      <th>4420736</th>\n",
              "      <td>X5M5N0</td>\n",
              "      <td>GO:0003674</td>\n",
              "      <td>MFO</td>\n",
              "    </tr>\n",
              "  </tbody>\n",
              "</table>\n",
              "<p>4420737 rows × 3 columns</p>\n",
              "</div>\n",
              "      <button class=\"colab-df-convert\" onclick=\"convertToInteractive('df-9cca2526-ba7b-47c2-bedb-d5b80ae51808')\"\n",
              "              title=\"Convert this dataframe to an interactive table.\"\n",
              "              style=\"display:none;\">\n",
              "        \n",
              "  <svg xmlns=\"http://www.w3.org/2000/svg\" height=\"24px\"viewBox=\"0 0 24 24\"\n",
              "       width=\"24px\">\n",
              "    <path d=\"M0 0h24v24H0V0z\" fill=\"none\"/>\n",
              "    <path d=\"M18.56 5.44l.94 2.06.94-2.06 2.06-.94-2.06-.94-.94-2.06-.94 2.06-2.06.94zm-11 1L8.5 8.5l.94-2.06 2.06-.94-2.06-.94L8.5 2.5l-.94 2.06-2.06.94zm10 10l.94 2.06.94-2.06 2.06-.94-2.06-.94-.94-2.06-.94 2.06-2.06.94z\"/><path d=\"M17.41 7.96l-1.37-1.37c-.4-.4-.92-.59-1.43-.59-.52 0-1.04.2-1.43.59L10.3 9.45l-7.72 7.72c-.78.78-.78 2.05 0 2.83L4 21.41c.39.39.9.59 1.41.59.51 0 1.02-.2 1.41-.59l7.78-7.78 2.81-2.81c.8-.78.8-2.07 0-2.86zM5.41 20L4 18.59l7.72-7.72 1.47 1.35L5.41 20z\"/>\n",
              "  </svg>\n",
              "      </button>\n",
              "      \n",
              "  <style>\n",
              "    .colab-df-container {\n",
              "      display:flex;\n",
              "      flex-wrap:wrap;\n",
              "      gap: 12px;\n",
              "    }\n",
              "\n",
              "    .colab-df-convert {\n",
              "      background-color: #E8F0FE;\n",
              "      border: none;\n",
              "      border-radius: 50%;\n",
              "      cursor: pointer;\n",
              "      display: none;\n",
              "      fill: #1967D2;\n",
              "      height: 32px;\n",
              "      padding: 0 0 0 0;\n",
              "      width: 32px;\n",
              "    }\n",
              "\n",
              "    .colab-df-convert:hover {\n",
              "      background-color: #E2EBFA;\n",
              "      box-shadow: 0px 1px 2px rgba(60, 64, 67, 0.3), 0px 1px 3px 1px rgba(60, 64, 67, 0.15);\n",
              "      fill: #174EA6;\n",
              "    }\n",
              "\n",
              "    [theme=dark] .colab-df-convert {\n",
              "      background-color: #3B4455;\n",
              "      fill: #D2E3FC;\n",
              "    }\n",
              "\n",
              "    [theme=dark] .colab-df-convert:hover {\n",
              "      background-color: #434B5C;\n",
              "      box-shadow: 0px 1px 3px 1px rgba(0, 0, 0, 0.15);\n",
              "      filter: drop-shadow(0px 1px 2px rgba(0, 0, 0, 0.3));\n",
              "      fill: #FFFFFF;\n",
              "    }\n",
              "  </style>\n",
              "\n",
              "      <script>\n",
              "        const buttonEl =\n",
              "          document.querySelector('#df-9cca2526-ba7b-47c2-bedb-d5b80ae51808 button.colab-df-convert');\n",
              "        buttonEl.style.display =\n",
              "          google.colab.kernel.accessAllowed ? 'block' : 'none';\n",
              "\n",
              "        async function convertToInteractive(key) {\n",
              "          const element = document.querySelector('#df-9cca2526-ba7b-47c2-bedb-d5b80ae51808');\n",
              "          const dataTable =\n",
              "            await google.colab.kernel.invokeFunction('convertToInteractive',\n",
              "                                                     [key], {});\n",
              "          if (!dataTable) return;\n",
              "\n",
              "          const docLinkHtml = 'Like what you see? Visit the ' +\n",
              "            '<a target=\"_blank\" href=https://colab.research.google.com/notebooks/data_table.ipynb>data table notebook</a>'\n",
              "            + ' to learn more about interactive tables.';\n",
              "          element.innerHTML = '';\n",
              "          dataTable['output_type'] = 'display_data';\n",
              "          await google.colab.output.renderOutput(dataTable, element);\n",
              "          const docLink = document.createElement('div');\n",
              "          docLink.innerHTML = docLinkHtml;\n",
              "          element.appendChild(docLink);\n",
              "        }\n",
              "      </script>\n",
              "    </div>\n",
              "  </div>\n",
              "  "
            ]
          },
          "metadata": {},
          "execution_count": 7
        }
      ]
    },
    {
      "cell_type": "code",
      "source": [
        "pie_df = train_terms_updated['aspect'].value_counts()\n",
        "palette_color = sns.color_palette('bright')\n",
        "plt.pie(pie_df.values, labels=np.array(pie_df.index), colors=palette_color, autopct='%.0f%%')\n",
        "plt.show()"
      ],
      "metadata": {
        "papermill": {
          "duration": 0.419624,
          "end_time": "2023-05-09T08:30:36.171193",
          "exception": false,
          "start_time": "2023-05-09T08:30:35.751569",
          "status": "completed"
        },
        "tags": [],
        "execution": {
          "iopub.status.busy": "2023-06-04T13:33:12.491603Z",
          "iopub.execute_input": "2023-06-04T13:33:12.492014Z",
          "iopub.status.idle": "2023-06-04T13:33:13.367456Z",
          "shell.execute_reply.started": "2023-06-04T13:33:12.491980Z",
          "shell.execute_reply": "2023-06-04T13:33:13.365814Z"
        },
        "trusted": true,
        "colab": {
          "base_uri": "https://localhost:8080/",
          "height": 406
        },
        "id": "P84-X9BIzey7",
        "outputId": "17a8b8b1-4b33-4d37-9b91-201518c6f08e"
      },
      "execution_count": null,
      "outputs": [
        {
          "output_type": "display_data",
          "data": {
            "text/plain": [
              "<Figure size 640x480 with 1 Axes>"
            ],
            "image/png": "[encoded data removed]"
          },
          "metadata": {}
        }
      ]
    },
    {
      "cell_type": "markdown",
      "source": [
        "As you can see, majority of the `GO term Id`s have BPO(Biological Process Ontology) as their aspect. Since this is a multi label classification problem, in the labels array we will denote the presence or absence of each Go Term Id for a protein id using a 1 or 0. First, we will create a numpy array train_labels of required size for the labels. To update the train_labels array with the appropriate values, we will loop through the label list."
      ],
      "metadata": {
        "papermill": {
          "duration": 0.016642,
          "end_time": "2023-05-09T08:30:36.204943",
          "exception": false,
          "start_time": "2023-05-09T08:30:36.188301",
          "status": "completed"
        },
        "tags": [],
        "id": "KZHdVDG2zey8"
      }
    },
    {
      "cell_type": "markdown",
      "source": [
        "The final labels dataframe (`label_df`) is composed of 1500 columns and 142246 entries. We can see all 1500 dimensions(results will be truncated since the number of columns is big) of our dataset by printing out the first 5 entries using the following code:"
      ],
      "metadata": {
        "papermill": {
          "duration": 0.010097,
          "end_time": "2023-05-09T08:38:51.971947",
          "exception": false,
          "start_time": "2023-05-09T08:38:51.96185",
          "status": "completed"
        },
        "tags": [],
        "id": "gEk1nobazey8"
      }
    },
    {
      "cell_type": "code",
      "source": [
        "train_size = train_protein_ids.shape[0]\n",
        "train_labels = np.zeros((train_size ,num_of_labels))\n",
        "series_train_protein_ids = pd.Series(train_protein_ids)\n",
        "\n",
        "bar = progressbar.ProgressBar(maxval=num_of_labels, widgets=[progressbar.Bar('=', '[', ']'), ' ', progressbar.Percentage()])\n",
        "for i in range(num_of_labels):\n",
        "    n_train_terms = train_terms_updated[train_terms_updated['term'] ==  labels[i]]\n",
        "    label_related_proteins = n_train_terms['EntryID'].unique()\n",
        "    train_labels[:,i] =  series_train_protein_ids.isin(label_related_proteins).astype(float)\n",
        "    bar.update(i+1)\n",
        "bar.finish()\n",
        "\n",
        "labels_df = pd.DataFrame(data = train_labels, columns = labels)\n",
        "print(labels_df.shape)"
      ],
      "metadata": {
        "id": "4sm1wXBczey8"
      },
      "execution_count": null,
      "outputs": []
    },
    {
      "cell_type": "markdown",
      "source": [
        "------------------------------------------------------------------------------------------------------------------------------------------"
      ],
      "metadata": {
        "papermill": {
          "duration": 0.048128,
          "end_time": "2023-05-09T08:38:52.031041",
          "exception": false,
          "start_time": "2023-05-09T08:38:51.982913",
          "status": "completed"
        },
        "tags": [],
        "execution": {
          "iopub.status.busy": "2023-06-04T08:03:09.847251Z",
          "iopub.execute_input": "2023-06-04T08:03:09.847742Z",
          "iopub.status.idle": "2023-06-04T08:03:09.877955Z",
          "shell.execute_reply.started": "2023-06-04T08:03:09.847707Z",
          "shell.execute_reply": "2023-06-04T08:03:09.875731Z"
        },
        "id": "K2CpveWAzey9"
      }
    },
    {
      "cell_type": "code",
      "source": [
        "train_size = train_protein_ids.shape[0]\n",
        "train_labels = np.zeros((train_size ,num_of_labels))\n",
        "train_labels.shape"
      ],
      "metadata": {
        "execution": {
          "iopub.status.busy": "2023-06-04T13:33:18.809065Z",
          "iopub.execute_input": "2023-06-04T13:33:18.809715Z",
          "iopub.status.idle": "2023-06-04T13:33:18.822967Z",
          "shell.execute_reply.started": "2023-06-04T13:33:18.809663Z",
          "shell.execute_reply": "2023-06-04T13:33:18.821491Z"
        },
        "trusted": true,
        "colab": {
          "base_uri": "https://localhost:8080/"
        },
        "id": "RRO8q-zlzey9",
        "outputId": "68cebe36-112e-4394-fe00-b5f4e53aeeac"
      },
      "execution_count": null,
      "outputs": [
        {
          "output_type": "execute_result",
          "data": {
            "text/plain": [
              "(142246, 1500)"
            ]
          },
          "metadata": {},
          "execution_count": 9
        }
      ]
    },
    {
      "cell_type": "code",
      "source": [
        "series_train_protein_ids = pd.Series(train_protein_ids)\n",
        "series_train_protein_ids"
      ],
      "metadata": {
        "execution": {
          "iopub.status.busy": "2023-06-04T13:33:21.027893Z",
          "iopub.execute_input": "2023-06-04T13:33:21.028328Z",
          "iopub.status.idle": "2023-06-04T13:33:21.055794Z",
          "shell.execute_reply.started": "2023-06-04T13:33:21.028298Z",
          "shell.execute_reply": "2023-06-04T13:33:21.054342Z"
        },
        "trusted": true,
        "colab": {
          "base_uri": "https://localhost:8080/"
        },
        "id": "hptCoKf5zey9",
        "outputId": "dae712d7-302f-4161-fea0-e782799f7b23"
      },
      "execution_count": null,
      "outputs": [
        {
          "output_type": "execute_result",
          "data": {
            "text/plain": [
              "0             P20536\n",
              "1             O73864\n",
              "2             O95231\n",
              "3         A0A0B4J1F4\n",
              "4             P54366\n",
              "             ...    \n",
              "142241    A0A286YAI0\n",
              "142242    A0A1D5NUC4\n",
              "142243        Q5RGB0\n",
              "142244    A0A2R8QMZ5\n",
              "142245    A0A8I6GHU0\n",
              "Length: 142246, dtype: object"
            ]
          },
          "metadata": {},
          "execution_count": 10
        }
      ]
    },
    {
      "cell_type": "code",
      "source": [
        "bar = progressbar.ProgressBar(maxval=num_of_labels, widgets=[progressbar.Bar('=', '[', ']'), ' ', progressbar.Percentage()])\n",
        "for i in range(num_of_labels):\n",
        "    n_train_terms = train_terms_updated[train_terms_updated['term'] ==  labels[i]]\n",
        "    label_related_proteins = n_train_terms['EntryID'].unique()\n",
        "    train_labels[:,i] =  series_train_protein_ids.isin(label_related_proteins).astype(float)\n",
        "    bar.update(i+1)\n",
        "bar.finish()"
      ],
      "metadata": {
        "execution": {
          "iopub.status.busy": "2023-06-04T11:52:26.719757Z",
          "iopub.execute_input": "2023-06-04T11:52:26.720173Z",
          "iopub.status.idle": "2023-06-04T12:12:41.470887Z",
          "shell.execute_reply.started": "2023-06-04T11:52:26.720141Z",
          "shell.execute_reply": "2023-06-04T12:12:41.469699Z"
        },
        "trusted": true,
        "colab": {
          "base_uri": "https://localhost:8080/",
          "height": 415
        },
        "id": "_klucdluzey-",
        "outputId": "5c1659e0-2692-4ceb-f6e7-fe4927590c2d"
      },
      "execution_count": null,
      "outputs": [
        {
          "output_type": "stream",
          "name": "stderr",
          "text": [
            "[============                                                            ]  17%"
          ]
        },
        {
          "output_type": "error",
          "ename": "KeyboardInterrupt",
          "evalue": "ignored",
          "traceback": [
            "\u001b[0;31m---------------------------------------------------------------------------\u001b[0m",
            "\u001b[0;31mKeyboardInterrupt\u001b[0m                         Traceback (most recent call last)",
            "\u001b[0;32m<ipython-input-11-10bda0b45b35>\u001b[0m in \u001b[0;36m<cell line: 2>\u001b[0;34m()\u001b[0m\n\u001b[1;32m      1\u001b[0m \u001b[0mbar\u001b[0m \u001b[0;34m=\u001b[0m \u001b[0mprogressbar\u001b[0m\u001b[0;34m.\u001b[0m\u001b[0mProgressBar\u001b[0m\u001b[0;34m(\u001b[0m\u001b[0mmaxval\u001b[0m\u001b[0;34m=\u001b[0m\u001b[0mnum_of_labels\u001b[0m\u001b[0;34m,\u001b[0m \u001b[0mwidgets\u001b[0m\u001b[0;34m=\u001b[0m\u001b[0;34m[\u001b[0m\u001b[0mprogressbar\u001b[0m\u001b[0;34m.\u001b[0m\u001b[0mBar\u001b[0m\u001b[0;34m(\u001b[0m\u001b[0;34m'='\u001b[0m\u001b[0;34m,\u001b[0m \u001b[0;34m'['\u001b[0m\u001b[0;34m,\u001b[0m \u001b[0;34m']'\u001b[0m\u001b[0;34m)\u001b[0m\u001b[0;34m,\u001b[0m \u001b[0;34m' '\u001b[0m\u001b[0;34m,\u001b[0m \u001b[0mprogressbar\u001b[0m\u001b[0;34m.\u001b[0m\u001b[0mPercentage\u001b[0m\u001b[0;34m(\u001b[0m\u001b[0;34m)\u001b[0m\u001b[0;34m]\u001b[0m\u001b[0;34m)\u001b[0m\u001b[0;34m\u001b[0m\u001b[0;34m\u001b[0m\u001b[0m\n\u001b[1;32m      2\u001b[0m \u001b[0;32mfor\u001b[0m \u001b[0mi\u001b[0m \u001b[0;32min\u001b[0m \u001b[0mrange\u001b[0m\u001b[0;34m(\u001b[0m\u001b[0mnum_of_labels\u001b[0m\u001b[0;34m)\u001b[0m\u001b[0;34m:\u001b[0m\u001b[0;34m\u001b[0m\u001b[0;34m\u001b[0m\u001b[0m\n\u001b[0;32m----> 3\u001b[0;31m     \u001b[0mn_train_terms\u001b[0m \u001b[0;34m=\u001b[0m \u001b[0mtrain_terms_updated\u001b[0m\u001b[0;34m[\u001b[0m\u001b[0mtrain_terms_updated\u001b[0m\u001b[0;34m[\u001b[0m\u001b[0;34m'term'\u001b[0m\u001b[0;34m]\u001b[0m \u001b[0;34m==\u001b[0m  \u001b[0mlabels\u001b[0m\u001b[0;34m[\u001b[0m\u001b[0mi\u001b[0m\u001b[0;34m]\u001b[0m\u001b[0;34m]\u001b[0m\u001b[0;34m\u001b[0m\u001b[0;34m\u001b[0m\u001b[0m\n\u001b[0m\u001b[1;32m      4\u001b[0m     \u001b[0mlabel_related_proteins\u001b[0m \u001b[0;34m=\u001b[0m \u001b[0mn_train_terms\u001b[0m\u001b[0;34m[\u001b[0m\u001b[0;34m'EntryID'\u001b[0m\u001b[0;34m]\u001b[0m\u001b[0;34m.\u001b[0m\u001b[0munique\u001b[0m\u001b[0;34m(\u001b[0m\u001b[0;34m)\u001b[0m\u001b[0;34m\u001b[0m\u001b[0;34m\u001b[0m\u001b[0m\n\u001b[1;32m      5\u001b[0m     \u001b[0mtrain_labels\u001b[0m\u001b[0;34m[\u001b[0m\u001b[0;34m:\u001b[0m\u001b[0;34m,\u001b[0m\u001b[0mi\u001b[0m\u001b[0;34m]\u001b[0m \u001b[0;34m=\u001b[0m  \u001b[0mseries_train_protein_ids\u001b[0m\u001b[0;34m.\u001b[0m\u001b[0misin\u001b[0m\u001b[0;34m(\u001b[0m\u001b[0mlabel_related_proteins\u001b[0m\u001b[0;34m)\u001b[0m\u001b[0;34m.\u001b[0m\u001b[0mastype\u001b[0m\u001b[0;34m(\u001b[0m\u001b[0mfloat\u001b[0m\u001b[0;34m)\u001b[0m\u001b[0;34m\u001b[0m\u001b[0;34m\u001b[0m\u001b[0m\n",
            "\u001b[0;32m/usr/local/lib/python3.10/dist-packages/pandas/core/ops/common.py\u001b[0m in \u001b[0;36mnew_method\u001b[0;34m(self, other)\u001b[0m\n\u001b[1;32m     70\u001b[0m         \u001b[0mother\u001b[0m \u001b[0;34m=\u001b[0m \u001b[0mitem_from_zerodim\u001b[0m\u001b[0;34m(\u001b[0m\u001b[0mother\u001b[0m\u001b[0;34m)\u001b[0m\u001b[0;34m\u001b[0m\u001b[0;34m\u001b[0m\u001b[0m\n\u001b[1;32m     71\u001b[0m \u001b[0;34m\u001b[0m\u001b[0m\n\u001b[0;32m---> 72\u001b[0;31m         \u001b[0;32mreturn\u001b[0m \u001b[0mmethod\u001b[0m\u001b[0;34m(\u001b[0m\u001b[0mself\u001b[0m\u001b[0;34m,\u001b[0m \u001b[0mother\u001b[0m\u001b[0;34m)\u001b[0m\u001b[0;34m\u001b[0m\u001b[0;34m\u001b[0m\u001b[0m\n\u001b[0m\u001b[1;32m     73\u001b[0m \u001b[0;34m\u001b[0m\u001b[0m\n\u001b[1;32m     74\u001b[0m     \u001b[0;32mreturn\u001b[0m \u001b[0mnew_method\u001b[0m\u001b[0;34m\u001b[0m\u001b[0;34m\u001b[0m\u001b[0m\n",
            "\u001b[0;32m/usr/local/lib/python3.10/dist-packages/pandas/core/arraylike.py\u001b[0m in \u001b[0;36m__eq__\u001b[0;34m(self, other)\u001b[0m\n\u001b[1;32m     40\u001b[0m     \u001b[0;34m@\u001b[0m\u001b[0munpack_zerodim_and_defer\u001b[0m\u001b[0;34m(\u001b[0m\u001b[0;34m\"__eq__\"\u001b[0m\u001b[0;34m)\u001b[0m\u001b[0;34m\u001b[0m\u001b[0;34m\u001b[0m\u001b[0m\n\u001b[1;32m     41\u001b[0m     \u001b[0;32mdef\u001b[0m \u001b[0m__eq__\u001b[0m\u001b[0;34m(\u001b[0m\u001b[0mself\u001b[0m\u001b[0;34m,\u001b[0m \u001b[0mother\u001b[0m\u001b[0;34m)\u001b[0m\u001b[0;34m:\u001b[0m\u001b[0;34m\u001b[0m\u001b[0;34m\u001b[0m\u001b[0m\n\u001b[0;32m---> 42\u001b[0;31m         \u001b[0;32mreturn\u001b[0m \u001b[0mself\u001b[0m\u001b[0;34m.\u001b[0m\u001b[0m_cmp_method\u001b[0m\u001b[0;34m(\u001b[0m\u001b[0mother\u001b[0m\u001b[0;34m,\u001b[0m \u001b[0moperator\u001b[0m\u001b[0;34m.\u001b[0m\u001b[0meq\u001b[0m\u001b[0;34m)\u001b[0m\u001b[0;34m\u001b[0m\u001b[0;34m\u001b[0m\u001b[0m\n\u001b[0m\u001b[1;32m     43\u001b[0m \u001b[0;34m\u001b[0m\u001b[0m\n\u001b[1;32m     44\u001b[0m     \u001b[0;34m@\u001b[0m\u001b[0munpack_zerodim_and_defer\u001b[0m\u001b[0;34m(\u001b[0m\u001b[0;34m\"__ne__\"\u001b[0m\u001b[0;34m)\u001b[0m\u001b[0;34m\u001b[0m\u001b[0;34m\u001b[0m\u001b[0m\n",
            "\u001b[0;32m/usr/local/lib/python3.10/dist-packages/pandas/core/series.py\u001b[0m in \u001b[0;36m_cmp_method\u001b[0;34m(self, other, op)\u001b[0m\n\u001b[1;32m   6241\u001b[0m \u001b[0;34m\u001b[0m\u001b[0m\n\u001b[1;32m   6242\u001b[0m         \u001b[0;32mwith\u001b[0m \u001b[0mnp\u001b[0m\u001b[0;34m.\u001b[0m\u001b[0merrstate\u001b[0m\u001b[0;34m(\u001b[0m\u001b[0mall\u001b[0m\u001b[0;34m=\u001b[0m\u001b[0;34m\"ignore\"\u001b[0m\u001b[0;34m)\u001b[0m\u001b[0;34m:\u001b[0m\u001b[0;34m\u001b[0m\u001b[0;34m\u001b[0m\u001b[0m\n\u001b[0;32m-> 6243\u001b[0;31m             \u001b[0mres_values\u001b[0m \u001b[0;34m=\u001b[0m \u001b[0mops\u001b[0m\u001b[0;34m.\u001b[0m\u001b[0mcomparison_op\u001b[0m\u001b[0;34m(\u001b[0m\u001b[0mlvalues\u001b[0m\u001b[0;34m,\u001b[0m \u001b[0mrvalues\u001b[0m\u001b[0;34m,\u001b[0m \u001b[0mop\u001b[0m\u001b[0;34m)\u001b[0m\u001b[0;34m\u001b[0m\u001b[0;34m\u001b[0m\u001b[0m\n\u001b[0m\u001b[1;32m   6244\u001b[0m \u001b[0;34m\u001b[0m\u001b[0m\n\u001b[1;32m   6245\u001b[0m         \u001b[0;32mreturn\u001b[0m \u001b[0mself\u001b[0m\u001b[0;34m.\u001b[0m\u001b[0m_construct_result\u001b[0m\u001b[0;34m(\u001b[0m\u001b[0mres_values\u001b[0m\u001b[0;34m,\u001b[0m \u001b[0mname\u001b[0m\u001b[0;34m=\u001b[0m\u001b[0mres_name\u001b[0m\u001b[0;34m)\u001b[0m\u001b[0;34m\u001b[0m\u001b[0;34m\u001b[0m\u001b[0m\n",
            "\u001b[0;32m/usr/local/lib/python3.10/dist-packages/pandas/core/ops/array_ops.py\u001b[0m in \u001b[0;36mcomparison_op\u001b[0;34m(left, right, op)\u001b[0m\n\u001b[1;32m    285\u001b[0m \u001b[0;34m\u001b[0m\u001b[0m\n\u001b[1;32m    286\u001b[0m     \u001b[0;32melif\u001b[0m \u001b[0mis_object_dtype\u001b[0m\u001b[0;34m(\u001b[0m\u001b[0mlvalues\u001b[0m\u001b[0;34m.\u001b[0m\u001b[0mdtype\u001b[0m\u001b[0;34m)\u001b[0m \u001b[0;32mor\u001b[0m \u001b[0misinstance\u001b[0m\u001b[0;34m(\u001b[0m\u001b[0mrvalues\u001b[0m\u001b[0;34m,\u001b[0m \u001b[0mstr\u001b[0m\u001b[0;34m)\u001b[0m\u001b[0;34m:\u001b[0m\u001b[0;34m\u001b[0m\u001b[0;34m\u001b[0m\u001b[0m\n\u001b[0;32m--> 287\u001b[0;31m         \u001b[0mres_values\u001b[0m \u001b[0;34m=\u001b[0m \u001b[0mcomp_method_OBJECT_ARRAY\u001b[0m\u001b[0;34m(\u001b[0m\u001b[0mop\u001b[0m\u001b[0;34m,\u001b[0m \u001b[0mlvalues\u001b[0m\u001b[0;34m,\u001b[0m \u001b[0mrvalues\u001b[0m\u001b[0;34m)\u001b[0m\u001b[0;34m\u001b[0m\u001b[0;34m\u001b[0m\u001b[0m\n\u001b[0m\u001b[1;32m    288\u001b[0m \u001b[0;34m\u001b[0m\u001b[0m\n\u001b[1;32m    289\u001b[0m     \u001b[0;32melse\u001b[0m\u001b[0;34m:\u001b[0m\u001b[0;34m\u001b[0m\u001b[0;34m\u001b[0m\u001b[0m\n",
            "\u001b[0;32m/usr/local/lib/python3.10/dist-packages/pandas/core/ops/array_ops.py\u001b[0m in \u001b[0;36mcomp_method_OBJECT_ARRAY\u001b[0;34m(op, x, y)\u001b[0m\n\u001b[1;32m     73\u001b[0m         \u001b[0mresult\u001b[0m \u001b[0;34m=\u001b[0m \u001b[0mlibops\u001b[0m\u001b[0;34m.\u001b[0m\u001b[0mvec_compare\u001b[0m\u001b[0;34m(\u001b[0m\u001b[0mx\u001b[0m\u001b[0;34m.\u001b[0m\u001b[0mravel\u001b[0m\u001b[0;34m(\u001b[0m\u001b[0;34m)\u001b[0m\u001b[0;34m,\u001b[0m \u001b[0my\u001b[0m\u001b[0;34m.\u001b[0m\u001b[0mravel\u001b[0m\u001b[0;34m(\u001b[0m\u001b[0;34m)\u001b[0m\u001b[0;34m,\u001b[0m \u001b[0mop\u001b[0m\u001b[0;34m)\u001b[0m\u001b[0;34m\u001b[0m\u001b[0;34m\u001b[0m\u001b[0m\n\u001b[1;32m     74\u001b[0m     \u001b[0;32melse\u001b[0m\u001b[0;34m:\u001b[0m\u001b[0;34m\u001b[0m\u001b[0;34m\u001b[0m\u001b[0m\n\u001b[0;32m---> 75\u001b[0;31m         \u001b[0mresult\u001b[0m \u001b[0;34m=\u001b[0m \u001b[0mlibops\u001b[0m\u001b[0;34m.\u001b[0m\u001b[0mscalar_compare\u001b[0m\u001b[0;34m(\u001b[0m\u001b[0mx\u001b[0m\u001b[0;34m.\u001b[0m\u001b[0mravel\u001b[0m\u001b[0;34m(\u001b[0m\u001b[0;34m)\u001b[0m\u001b[0;34m,\u001b[0m \u001b[0my\u001b[0m\u001b[0;34m,\u001b[0m \u001b[0mop\u001b[0m\u001b[0;34m)\u001b[0m\u001b[0;34m\u001b[0m\u001b[0;34m\u001b[0m\u001b[0m\n\u001b[0m\u001b[1;32m     76\u001b[0m     \u001b[0;32mreturn\u001b[0m \u001b[0mresult\u001b[0m\u001b[0;34m.\u001b[0m\u001b[0mreshape\u001b[0m\u001b[0;34m(\u001b[0m\u001b[0mx\u001b[0m\u001b[0;34m.\u001b[0m\u001b[0mshape\u001b[0m\u001b[0;34m)\u001b[0m\u001b[0;34m\u001b[0m\u001b[0;34m\u001b[0m\u001b[0m\n\u001b[1;32m     77\u001b[0m \u001b[0;34m\u001b[0m\u001b[0m\n",
            "\u001b[0;31mKeyboardInterrupt\u001b[0m: "
          ]
        }
      ]
    },
    {
      "cell_type": "code",
      "source": [
        "labels"
      ],
      "metadata": {
        "execution": {
          "iopub.status.busy": "2023-06-04T12:41:47.841240Z",
          "iopub.execute_input": "2023-06-04T12:41:47.842302Z",
          "iopub.status.idle": "2023-06-04T12:41:47.849755Z",
          "shell.execute_reply.started": "2023-06-04T12:41:47.842263Z",
          "shell.execute_reply": "2023-06-04T12:41:47.848300Z"
        },
        "trusted": true,
        "id": "nSjnvPerzey-",
        "outputId": "58f365ac-3889-4402-c6d4-cd45c348fa18"
      },
      "execution_count": null,
      "outputs": [
        {
          "execution_count": 35,
          "output_type": "execute_result",
          "data": {
            "text/plain": "Index(['GO:0005575', 'GO:0008150', 'GO:0110165', 'GO:0003674', 'GO:0005622',\n       'GO:0009987', 'GO:0043226', 'GO:0043229', 'GO:0005488', 'GO:0043227',\n       ...\n       'GO:0034250', 'GO:0140053', 'GO:0031345', 'GO:0098802', 'GO:0045861',\n       'GO:0051783', 'GO:0031674', 'GO:0001818', 'GO:0006874', 'GO:0016887'],\n      dtype='object', length=1500)"
          },
          "metadata": {}
        }
      ]
    },
    {
      "cell_type": "code",
      "source": [
        "hello=np.array([1,2,3,4,5,6,7,8,9,10])"
      ],
      "metadata": {
        "execution": {
          "iopub.status.busy": "2023-06-04T11:38:06.474515Z",
          "iopub.execute_input": "2023-06-04T11:38:06.474947Z",
          "iopub.status.idle": "2023-06-04T11:38:06.483346Z",
          "shell.execute_reply.started": "2023-06-04T11:38:06.474912Z",
          "shell.execute_reply": "2023-06-04T11:38:06.481508Z"
        },
        "trusted": true,
        "id": "YHIzMmvozey-",
        "outputId": "fff01649-f6b0-4764-ba40-1dbe8658829a"
      },
      "execution_count": null,
      "outputs": [
        {
          "traceback": [
            "\u001b[0;36m  Cell \u001b[0;32mIn[30], line 2\u001b[0;36m\u001b[0m\n\u001b[0;31m    hello[]\u001b[0m\n\u001b[0m          ^\u001b[0m\n\u001b[0;31mSyntaxError\u001b[0m\u001b[0;31m:\u001b[0m invalid syntax\n"
          ],
          "ename": "SyntaxError",
          "evalue": "invalid syntax (1289651752.py, line 2)",
          "output_type": "error"
        }
      ]
    },
    {
      "cell_type": "code",
      "source": [
        "train_terms_updated[train_terms_updated['term'] ==  labels[i]]"
      ],
      "metadata": {
        "execution": {
          "iopub.status.busy": "2023-06-04T11:50:49.030703Z",
          "iopub.execute_input": "2023-06-04T11:50:49.031077Z",
          "iopub.status.idle": "2023-06-04T11:50:49.857645Z",
          "shell.execute_reply.started": "2023-06-04T11:50:49.031050Z",
          "shell.execute_reply": "2023-06-04T11:50:49.856513Z"
        },
        "trusted": true,
        "colab": {
          "base_uri": "https://localhost:8080/",
          "height": 423
        },
        "id": "0v0xoT0Zzey_",
        "outputId": "034c38d9-5d07-4c96-e78d-eb9dbc08e5df"
      },
      "execution_count": null,
      "outputs": [
        {
          "output_type": "execute_result",
          "data": {
            "text/plain": [
              "            EntryID        term aspect\n",
              "1668     A0A060XQE7  GO:0071495    BPO\n",
              "2452     A0A067YMX8  GO:0071495    BPO\n",
              "4404     A0A096MJY4  GO:0071495    BPO\n",
              "4932     A0A097BW25  GO:0071495    BPO\n",
              "6116     A0A0A7MA29  GO:0071495    BPO\n",
              "...             ...         ...    ...\n",
              "2773955      Q9ZWS9  GO:0071495    BPO\n",
              "2776751      S5ZH89  GO:0071495    BPO\n",
              "2777515      T1SRT4  GO:0071495    BPO\n",
              "2778493      U3JB00  GO:0071495    BPO\n",
              "2784902      X2CSN0  GO:0071495    BPO\n",
              "\n",
              "[3146 rows x 3 columns]"
            ],
            "text/html": [
              "\n",
              "  <div id=\"df-4e9aa4e6-f134-49db-8235-fa35ee93c266\">\n",
              "    <div class=\"colab-df-container\">\n",
              "      <div>\n",
              "<style scoped>\n",
              "    .dataframe tbody tr th:only-of-type {\n",
              "        vertical-align: middle;\n",
              "    }\n",
              "\n",
              "    .dataframe tbody tr th {\n",
              "        vertical-align: top;\n",
              "    }\n",
              "\n",
              "    .dataframe thead th {\n",
              "        text-align: right;\n",
              "    }\n",
              "</style>\n",
              "<table border=\"1\" class=\"dataframe\">\n",
              "  <thead>\n",
              "    <tr style=\"text-align: right;\">\n",
              "      <th></th>\n",
              "      <th>EntryID</th>\n",
              "      <th>term</th>\n",
              "      <th>aspect</th>\n",
              "    </tr>\n",
              "  </thead>\n",
              "  <tbody>\n",
              "    <tr>\n",
              "      <th>1668</th>\n",
              "      <td>A0A060XQE7</td>\n",
              "      <td>GO:0071495</td>\n",
              "      <td>BPO</td>\n",
              "    </tr>\n",
              "    <tr>\n",
              "      <th>2452</th>\n",
              "      <td>A0A067YMX8</td>\n",
              "      <td>GO:0071495</td>\n",
              "      <td>BPO</td>\n",
              "    </tr>\n",
              "    <tr>\n",
              "      <th>4404</th>\n",
              "      <td>A0A096MJY4</td>\n",
              "      <td>GO:0071495</td>\n",
              "      <td>BPO</td>\n",
              "    </tr>\n",
              "    <tr>\n",
              "      <th>4932</th>\n",
              "      <td>A0A097BW25</td>\n",
              "      <td>GO:0071495</td>\n",
              "      <td>BPO</td>\n",
              "    </tr>\n",
              "    <tr>\n",
              "      <th>6116</th>\n",
              "      <td>A0A0A7MA29</td>\n",
              "      <td>GO:0071495</td>\n",
              "      <td>BPO</td>\n",
              "    </tr>\n",
              "    <tr>\n",
              "      <th>...</th>\n",
              "      <td>...</td>\n",
              "      <td>...</td>\n",
              "      <td>...</td>\n",
              "    </tr>\n",
              "    <tr>\n",
              "      <th>2773955</th>\n",
              "      <td>Q9ZWS9</td>\n",
              "      <td>GO:0071495</td>\n",
              "      <td>BPO</td>\n",
              "    </tr>\n",
              "    <tr>\n",
              "      <th>2776751</th>\n",
              "      <td>S5ZH89</td>\n",
              "      <td>GO:0071495</td>\n",
              "      <td>BPO</td>\n",
              "    </tr>\n",
              "    <tr>\n",
              "      <th>2777515</th>\n",
              "      <td>T1SRT4</td>\n",
              "      <td>GO:0071495</td>\n",
              "      <td>BPO</td>\n",
              "    </tr>\n",
              "    <tr>\n",
              "      <th>2778493</th>\n",
              "      <td>U3JB00</td>\n",
              "      <td>GO:0071495</td>\n",
              "      <td>BPO</td>\n",
              "    </tr>\n",
              "    <tr>\n",
              "      <th>2784902</th>\n",
              "      <td>X2CSN0</td>\n",
              "      <td>GO:0071495</td>\n",
              "      <td>BPO</td>\n",
              "    </tr>\n",
              "  </tbody>\n",
              "</table>\n",
              "<p>3146 rows × 3 columns</p>\n",
              "</div>\n",
              "      <button class=\"colab-df-convert\" onclick=\"convertToInteractive('df-4e9aa4e6-f134-49db-8235-fa35ee93c266')\"\n",
              "              title=\"Convert this dataframe to an interactive table.\"\n",
              "              style=\"display:none;\">\n",
              "        \n",
              "  <svg xmlns=\"http://www.w3.org/2000/svg\" height=\"24px\"viewBox=\"0 0 24 24\"\n",
              "       width=\"24px\">\n",
              "    <path d=\"M0 0h24v24H0V0z\" fill=\"none\"/>\n",
              "    <path d=\"M18.56 5.44l.94 2.06.94-2.06 2.06-.94-2.06-.94-.94-2.06-.94 2.06-2.06.94zm-11 1L8.5 8.5l.94-2.06 2.06-.94-2.06-.94L8.5 2.5l-.94 2.06-2.06.94zm10 10l.94 2.06.94-2.06 2.06-.94-2.06-.94-.94-2.06-.94 2.06-2.06.94z\"/><path d=\"M17.41 7.96l-1.37-1.37c-.4-.4-.92-.59-1.43-.59-.52 0-1.04.2-1.43.59L10.3 9.45l-7.72 7.72c-.78.78-.78 2.05 0 2.83L4 21.41c.39.39.9.59 1.41.59.51 0 1.02-.2 1.41-.59l7.78-7.78 2.81-2.81c.8-.78.8-2.07 0-2.86zM5.41 20L4 18.59l7.72-7.72 1.47 1.35L5.41 20z\"/>\n",
              "  </svg>\n",
              "      </button>\n",
              "      \n",
              "  <style>\n",
              "    .colab-df-container {\n",
              "      display:flex;\n",
              "      flex-wrap:wrap;\n",
              "      gap: 12px;\n",
              "    }\n",
              "\n",
              "    .colab-df-convert {\n",
              "      background-color: #E8F0FE;\n",
              "      border: none;\n",
              "      border-radius: 50%;\n",
              "      cursor: pointer;\n",
              "      display: none;\n",
              "      fill: #1967D2;\n",
              "      height: 32px;\n",
              "      padding: 0 0 0 0;\n",
              "      width: 32px;\n",
              "    }\n",
              "\n",
              "    .colab-df-convert:hover {\n",
              "      background-color: #E2EBFA;\n",
              "      box-shadow: 0px 1px 2px rgba(60, 64, 67, 0.3), 0px 1px 3px 1px rgba(60, 64, 67, 0.15);\n",
              "      fill: #174EA6;\n",
              "    }\n",
              "\n",
              "    [theme=dark] .colab-df-convert {\n",
              "      background-color: #3B4455;\n",
              "      fill: #D2E3FC;\n",
              "    }\n",
              "\n",
              "    [theme=dark] .colab-df-convert:hover {\n",
              "      background-color: #434B5C;\n",
              "      box-shadow: 0px 1px 3px 1px rgba(0, 0, 0, 0.15);\n",
              "      filter: drop-shadow(0px 1px 2px rgba(0, 0, 0, 0.3));\n",
              "      fill: #FFFFFF;\n",
              "    }\n",
              "  </style>\n",
              "\n",
              "      <script>\n",
              "        const buttonEl =\n",
              "          document.querySelector('#df-4e9aa4e6-f134-49db-8235-fa35ee93c266 button.colab-df-convert');\n",
              "        buttonEl.style.display =\n",
              "          google.colab.kernel.accessAllowed ? 'block' : 'none';\n",
              "\n",
              "        async function convertToInteractive(key) {\n",
              "          const element = document.querySelector('#df-4e9aa4e6-f134-49db-8235-fa35ee93c266');\n",
              "          const dataTable =\n",
              "            await google.colab.kernel.invokeFunction('convertToInteractive',\n",
              "                                                     [key], {});\n",
              "          if (!dataTable) return;\n",
              "\n",
              "          const docLinkHtml = 'Like what you see? Visit the ' +\n",
              "            '<a target=\"_blank\" href=https://colab.research.google.com/notebooks/data_table.ipynb>data table notebook</a>'\n",
              "            + ' to learn more about interactive tables.';\n",
              "          element.innerHTML = '';\n",
              "          dataTable['output_type'] = 'display_data';\n",
              "          await google.colab.output.renderOutput(dataTable, element);\n",
              "          const docLink = document.createElement('div');\n",
              "          docLink.innerHTML = docLinkHtml;\n",
              "          element.appendChild(docLink);\n",
              "        }\n",
              "      </script>\n",
              "    </div>\n",
              "  </div>\n",
              "  "
            ]
          },
          "metadata": {},
          "execution_count": 13
        }
      ]
    },
    {
      "cell_type": "code",
      "source": [
        "label_related_proteins"
      ],
      "metadata": {
        "trusted": true,
        "colab": {
          "base_uri": "https://localhost:8080/"
        },
        "id": "OdJfQY4vzey_",
        "outputId": "5959f0e0-3d92-4fb8-98a8-be1e39d684b9"
      },
      "execution_count": null,
      "outputs": [
        {
          "output_type": "execute_result",
          "data": {
            "text/plain": [
              "array(['A0A023IM54', 'A0A068EUV3', 'A0A068F1F8', ..., 'V9VGU0', 'W7X6T2',\n",
              "       'X1WE68'], dtype=object)"
            ]
          },
          "metadata": {},
          "execution_count": 12
        }
      ]
    },
    {
      "cell_type": "code",
      "source": [
        "series_train_protein_ids"
      ],
      "metadata": {
        "execution": {
          "iopub.status.busy": "2023-06-04T11:37:54.826742Z",
          "iopub.execute_input": "2023-06-04T11:37:54.827140Z",
          "iopub.status.idle": "2023-06-04T11:37:54.836670Z",
          "shell.execute_reply.started": "2023-06-04T11:37:54.827113Z",
          "shell.execute_reply": "2023-06-04T11:37:54.835475Z"
        },
        "trusted": true,
        "colab": {
          "base_uri": "https://localhost:8080/"
        },
        "id": "mwB8ONjSzey_",
        "outputId": "8bb95d6d-60fb-4da8-da23-f839b38f31e4"
      },
      "execution_count": null,
      "outputs": [
        {
          "output_type": "execute_result",
          "data": {
            "text/plain": [
              "0             P20536\n",
              "1             O73864\n",
              "2             O95231\n",
              "3         A0A0B4J1F4\n",
              "4             P54366\n",
              "             ...    \n",
              "142241    A0A286YAI0\n",
              "142242    A0A1D5NUC4\n",
              "142243        Q5RGB0\n",
              "142244    A0A2R8QMZ5\n",
              "142245    A0A8I6GHU0\n",
              "Length: 142246, dtype: object"
            ]
          },
          "metadata": {},
          "execution_count": 14
        }
      ]
    },
    {
      "cell_type": "code",
      "source": [
        "series_train_protein_ids.isin(label_related_proteins)"
      ],
      "metadata": {
        "execution": {
          "iopub.status.busy": "2023-06-04T11:37:51.974124Z",
          "iopub.execute_input": "2023-06-04T11:37:51.974546Z",
          "iopub.status.idle": "2023-06-04T11:37:51.992143Z",
          "shell.execute_reply.started": "2023-06-04T11:37:51.974515Z",
          "shell.execute_reply": "2023-06-04T11:37:51.990742Z"
        },
        "trusted": true,
        "colab": {
          "base_uri": "https://localhost:8080/"
        },
        "id": "YUPjLpyczezA",
        "outputId": "59b2742d-53a6-46e0-f7ad-483c80524c62"
      },
      "execution_count": null,
      "outputs": [
        {
          "output_type": "execute_result",
          "data": {
            "text/plain": [
              "0         False\n",
              "1         False\n",
              "2         False\n",
              "3         False\n",
              "4         False\n",
              "          ...  \n",
              "142241    False\n",
              "142242    False\n",
              "142243    False\n",
              "142244    False\n",
              "142245    False\n",
              "Length: 142246, dtype: bool"
            ]
          },
          "metadata": {},
          "execution_count": 15
        }
      ]
    },
    {
      "cell_type": "code",
      "source": [
        "labels_df = pd.DataFrame(data = train_labels, columns = labels)\n",
        "labels_df.to_csv('/kaggle/working/final_dataset/data.csv')"
      ],
      "metadata": {
        "execution": {
          "iopub.status.busy": "2023-06-04T12:57:43.063089Z",
          "iopub.execute_input": "2023-06-04T12:57:43.063545Z",
          "iopub.status.idle": "2023-06-04T13:00:14.894166Z",
          "shell.execute_reply.started": "2023-06-04T12:57:43.063515Z",
          "shell.execute_reply": "2023-06-04T13:00:14.892688Z"
        },
        "trusted": true,
        "id": "UXimneCpzezA"
      },
      "execution_count": null,
      "outputs": []
    },
    {
      "cell_type": "code",
      "source": [
        "labels_df=pd.read_csv('/content/drive/MyDrive/data.csv')\n",
        "labels_df=labels_df.drop(columns='Unnamed: 0')"
      ],
      "metadata": {
        "execution": {
          "iopub.status.busy": "2023-06-04T13:37:43.771212Z",
          "iopub.execute_input": "2023-06-04T13:37:43.771661Z",
          "iopub.status.idle": "2023-06-04T13:38:29.273876Z",
          "shell.execute_reply.started": "2023-06-04T13:37:43.771627Z",
          "shell.execute_reply": "2023-06-04T13:38:29.272764Z"
        },
        "trusted": true,
        "id": "F_WGGRlCzezA"
      },
      "execution_count": null,
      "outputs": []
    },
    {
      "cell_type": "code",
      "source": [
        "labels_df.shape"
      ],
      "metadata": {
        "execution": {
          "iopub.status.busy": "2023-06-04T13:41:07.954157Z",
          "iopub.execute_input": "2023-06-04T13:41:07.954584Z",
          "iopub.status.idle": "2023-06-04T13:41:07.963183Z",
          "shell.execute_reply.started": "2023-06-04T13:41:07.954554Z",
          "shell.execute_reply": "2023-06-04T13:41:07.961704Z"
        },
        "trusted": true,
        "colab": {
          "base_uri": "https://localhost:8080/"
        },
        "id": "AXXUITwuzezB",
        "outputId": "0d8a7c3a-4199-4b8a-ba28-545059fb4b02"
      },
      "execution_count": null,
      "outputs": [
        {
          "output_type": "execute_result",
          "data": {
            "text/plain": [
              "(142246, 1500)"
            ]
          },
          "metadata": {},
          "execution_count": 18
        }
      ]
    },
    {
      "cell_type": "code",
      "source": [
        "labels_df.head()"
      ],
      "metadata": {
        "colab": {
          "base_uri": "https://localhost:8080/",
          "height": 299
        },
        "id": "tNoavpWM5zD0",
        "outputId": "f865f4c4-6664-4024-f8ab-499658eb0012"
      },
      "execution_count": null,
      "outputs": [
        {
          "output_type": "execute_result",
          "data": {
            "text/plain": [
              "   GO:0005575  GO:0008150  GO:0110165  GO:0003674  GO:0005622  GO:0009987  \\\n",
              "0         0.0         1.0         0.0         1.0         0.0         1.0   \n",
              "1         1.0         1.0         1.0         1.0         0.0         1.0   \n",
              "2         1.0         1.0         1.0         1.0         1.0         0.0   \n",
              "3         1.0         1.0         1.0         1.0         0.0         1.0   \n",
              "4         1.0         0.0         1.0         1.0         1.0         0.0   \n",
              "\n",
              "   GO:0043226  GO:0043229  GO:0005488  GO:0043227  ...  GO:0034250  \\\n",
              "0         0.0         0.0         1.0         0.0  ...         0.0   \n",
              "1         0.0         0.0         1.0         0.0  ...         0.0   \n",
              "2         1.0         1.0         1.0         1.0  ...         0.0   \n",
              "3         1.0         0.0         0.0         1.0  ...         0.0   \n",
              "4         1.0         1.0         1.0         1.0  ...         0.0   \n",
              "\n",
              "   GO:0140053  GO:0031345  GO:0098802  GO:0045861  GO:0051783  GO:0031674  \\\n",
              "0         0.0         0.0         0.0         0.0         0.0         0.0   \n",
              "1         0.0         0.0         0.0         0.0         0.0         0.0   \n",
              "2         0.0         0.0         0.0         0.0         0.0         0.0   \n",
              "3         0.0         0.0         0.0         0.0         0.0         0.0   \n",
              "4         0.0         0.0         0.0         0.0         0.0         0.0   \n",
              "\n",
              "   GO:0001818  GO:0006874  GO:0016887  \n",
              "0         0.0         0.0         0.0  \n",
              "1         0.0         0.0         0.0  \n",
              "2         0.0         0.0         0.0  \n",
              "3         0.0         0.0         0.0  \n",
              "4         0.0         0.0         0.0  \n",
              "\n",
              "[5 rows x 1500 columns]"
            ],
            "text/html": [
              "\n",
              "  <div id=\"df-0b4a2aa2-0a35-4903-a02d-1a83bcc745ab\">\n",
              "    <div class=\"colab-df-container\">\n",
              "      <div>\n",
              "<style scoped>\n",
              "    .dataframe tbody tr th:only-of-type {\n",
              "        vertical-align: middle;\n",
              "    }\n",
              "\n",
              "    .dataframe tbody tr th {\n",
              "        vertical-align: top;\n",
              "    }\n",
              "\n",
              "    .dataframe thead th {\n",
              "        text-align: right;\n",
              "    }\n",
              "</style>\n",
              "<table border=\"1\" class=\"dataframe\">\n",
              "  <thead>\n",
              "    <tr style=\"text-align: right;\">\n",
              "      <th></th>\n",
              "      <th>GO:0005575</th>\n",
              "      <th>GO:0008150</th>\n",
              "      <th>GO:0110165</th>\n",
              "      <th>GO:0003674</th>\n",
              "      <th>GO:0005622</th>\n",
              "      <th>GO:0009987</th>\n",
              "      <th>GO:0043226</th>\n",
              "      <th>GO:0043229</th>\n",
              "      <th>GO:0005488</th>\n",
              "      <th>GO:0043227</th>\n",
              "      <th>...</th>\n",
              "      <th>GO:0034250</th>\n",
              "      <th>GO:0140053</th>\n",
              "      <th>GO:0031345</th>\n",
              "      <th>GO:0098802</th>\n",
              "      <th>GO:0045861</th>\n",
              "      <th>GO:0051783</th>\n",
              "      <th>GO:0031674</th>\n",
              "      <th>GO:0001818</th>\n",
              "      <th>GO:0006874</th>\n",
              "      <th>GO:0016887</th>\n",
              "    </tr>\n",
              "  </thead>\n",
              "  <tbody>\n",
              "    <tr>\n",
              "      <th>0</th>\n",
              "      <td>0.0</td>\n",
              "      <td>1.0</td>\n",
              "      <td>0.0</td>\n",
              "      <td>1.0</td>\n",
              "      <td>0.0</td>\n",
              "      <td>1.0</td>\n",
              "      <td>0.0</td>\n",
              "      <td>0.0</td>\n",
              "      <td>1.0</td>\n",
              "      <td>0.0</td>\n",
              "      <td>...</td>\n",
              "      <td>0.0</td>\n",
              "      <td>0.0</td>\n",
              "      <td>0.0</td>\n",
              "      <td>0.0</td>\n",
              "      <td>0.0</td>\n",
              "      <td>0.0</td>\n",
              "      <td>0.0</td>\n",
              "      <td>0.0</td>\n",
              "      <td>0.0</td>\n",
              "      <td>0.0</td>\n",
              "    </tr>\n",
              "    <tr>\n",
              "      <th>1</th>\n",
              "      <td>1.0</td>\n",
              "      <td>1.0</td>\n",
              "      <td>1.0</td>\n",
              "      <td>1.0</td>\n",
              "      <td>0.0</td>\n",
              "      <td>1.0</td>\n",
              "      <td>0.0</td>\n",
              "      <td>0.0</td>\n",
              "      <td>1.0</td>\n",
              "      <td>0.0</td>\n",
              "      <td>...</td>\n",
              "      <td>0.0</td>\n",
              "      <td>0.0</td>\n",
              "      <td>0.0</td>\n",
              "      <td>0.0</td>\n",
              "      <td>0.0</td>\n",
              "      <td>0.0</td>\n",
              "      <td>0.0</td>\n",
              "      <td>0.0</td>\n",
              "      <td>0.0</td>\n",
              "      <td>0.0</td>\n",
              "    </tr>\n",
              "    <tr>\n",
              "      <th>2</th>\n",
              "      <td>1.0</td>\n",
              "      <td>1.0</td>\n",
              "      <td>1.0</td>\n",
              "      <td>1.0</td>\n",
              "      <td>1.0</td>\n",
              "      <td>0.0</td>\n",
              "      <td>1.0</td>\n",
              "      <td>1.0</td>\n",
              "      <td>1.0</td>\n",
              "      <td>1.0</td>\n",
              "      <td>...</td>\n",
              "      <td>0.0</td>\n",
              "      <td>0.0</td>\n",
              "      <td>0.0</td>\n",
              "      <td>0.0</td>\n",
              "      <td>0.0</td>\n",
              "      <td>0.0</td>\n",
              "      <td>0.0</td>\n",
              "      <td>0.0</td>\n",
              "      <td>0.0</td>\n",
              "      <td>0.0</td>\n",
              "    </tr>\n",
              "    <tr>\n",
              "      <th>3</th>\n",
              "      <td>1.0</td>\n",
              "      <td>1.0</td>\n",
              "      <td>1.0</td>\n",
              "      <td>1.0</td>\n",
              "      <td>0.0</td>\n",
              "      <td>1.0</td>\n",
              "      <td>1.0</td>\n",
              "      <td>0.0</td>\n",
              "      <td>0.0</td>\n",
              "      <td>1.0</td>\n",
              "      <td>...</td>\n",
              "      <td>0.0</td>\n",
              "      <td>0.0</td>\n",
              "      <td>0.0</td>\n",
              "      <td>0.0</td>\n",
              "      <td>0.0</td>\n",
              "      <td>0.0</td>\n",
              "      <td>0.0</td>\n",
              "      <td>0.0</td>\n",
              "      <td>0.0</td>\n",
              "      <td>0.0</td>\n",
              "    </tr>\n",
              "    <tr>\n",
              "      <th>4</th>\n",
              "      <td>1.0</td>\n",
              "      <td>0.0</td>\n",
              "      <td>1.0</td>\n",
              "      <td>1.0</td>\n",
              "      <td>1.0</td>\n",
              "      <td>0.0</td>\n",
              "      <td>1.0</td>\n",
              "      <td>1.0</td>\n",
              "      <td>1.0</td>\n",
              "      <td>1.0</td>\n",
              "      <td>...</td>\n",
              "      <td>0.0</td>\n",
              "      <td>0.0</td>\n",
              "      <td>0.0</td>\n",
              "      <td>0.0</td>\n",
              "      <td>0.0</td>\n",
              "      <td>0.0</td>\n",
              "      <td>0.0</td>\n",
              "      <td>0.0</td>\n",
              "      <td>0.0</td>\n",
              "      <td>0.0</td>\n",
              "    </tr>\n",
              "  </tbody>\n",
              "</table>\n",
              "<p>5 rows × 1500 columns</p>\n",
              "</div>\n",
              "      <button class=\"colab-df-convert\" onclick=\"convertToInteractive('df-0b4a2aa2-0a35-4903-a02d-1a83bcc745ab')\"\n",
              "              title=\"Convert this dataframe to an interactive table.\"\n",
              "              style=\"display:none;\">\n",
              "        \n",
              "  <svg xmlns=\"http://www.w3.org/2000/svg\" height=\"24px\"viewBox=\"0 0 24 24\"\n",
              "       width=\"24px\">\n",
              "    <path d=\"M0 0h24v24H0V0z\" fill=\"none\"/>\n",
              "    <path d=\"M18.56 5.44l.94 2.06.94-2.06 2.06-.94-2.06-.94-.94-2.06-.94 2.06-2.06.94zm-11 1L8.5 8.5l.94-2.06 2.06-.94-2.06-.94L8.5 2.5l-.94 2.06-2.06.94zm10 10l.94 2.06.94-2.06 2.06-.94-2.06-.94-.94-2.06-.94 2.06-2.06.94z\"/><path d=\"M17.41 7.96l-1.37-1.37c-.4-.4-.92-.59-1.43-.59-.52 0-1.04.2-1.43.59L10.3 9.45l-7.72 7.72c-.78.78-.78 2.05 0 2.83L4 21.41c.39.39.9.59 1.41.59.51 0 1.02-.2 1.41-.59l7.78-7.78 2.81-2.81c.8-.78.8-2.07 0-2.86zM5.41 20L4 18.59l7.72-7.72 1.47 1.35L5.41 20z\"/>\n",
              "  </svg>\n",
              "      </button>\n",
              "      \n",
              "  <style>\n",
              "    .colab-df-container {\n",
              "      display:flex;\n",
              "      flex-wrap:wrap;\n",
              "      gap: 12px;\n",
              "    }\n",
              "\n",
              "    .colab-df-convert {\n",
              "      background-color: #E8F0FE;\n",
              "      border: none;\n",
              "      border-radius: 50%;\n",
              "      cursor: pointer;\n",
              "      display: none;\n",
              "      fill: #1967D2;\n",
              "      height: 32px;\n",
              "      padding: 0 0 0 0;\n",
              "      width: 32px;\n",
              "    }\n",
              "\n",
              "    .colab-df-convert:hover {\n",
              "      background-color: #E2EBFA;\n",
              "      box-shadow: 0px 1px 2px rgba(60, 64, 67, 0.3), 0px 1px 3px 1px rgba(60, 64, 67, 0.15);\n",
              "      fill: #174EA6;\n",
              "    }\n",
              "\n",
              "    [theme=dark] .colab-df-convert {\n",
              "      background-color: #3B4455;\n",
              "      fill: #D2E3FC;\n",
              "    }\n",
              "\n",
              "    [theme=dark] .colab-df-convert:hover {\n",
              "      background-color: #434B5C;\n",
              "      box-shadow: 0px 1px 3px 1px rgba(0, 0, 0, 0.15);\n",
              "      filter: drop-shadow(0px 1px 2px rgba(0, 0, 0, 0.3));\n",
              "      fill: #FFFFFF;\n",
              "    }\n",
              "  </style>\n",
              "\n",
              "      <script>\n",
              "        const buttonEl =\n",
              "          document.querySelector('#df-0b4a2aa2-0a35-4903-a02d-1a83bcc745ab button.colab-df-convert');\n",
              "        buttonEl.style.display =\n",
              "          google.colab.kernel.accessAllowed ? 'block' : 'none';\n",
              "\n",
              "        async function convertToInteractive(key) {\n",
              "          const element = document.querySelector('#df-0b4a2aa2-0a35-4903-a02d-1a83bcc745ab');\n",
              "          const dataTable =\n",
              "            await google.colab.kernel.invokeFunction('convertToInteractive',\n",
              "                                                     [key], {});\n",
              "          if (!dataTable) return;\n",
              "\n",
              "          const docLinkHtml = 'Like what you see? Visit the ' +\n",
              "            '<a target=\"_blank\" href=https://colab.research.google.com/notebooks/data_table.ipynb>data table notebook</a>'\n",
              "            + ' to learn more about interactive tables.';\n",
              "          element.innerHTML = '';\n",
              "          dataTable['output_type'] = 'display_data';\n",
              "          await google.colab.output.renderOutput(dataTable, element);\n",
              "          const docLink = document.createElement('div');\n",
              "          docLink.innerHTML = docLinkHtml;\n",
              "          element.appendChild(docLink);\n",
              "        }\n",
              "      </script>\n",
              "    </div>\n",
              "  </div>\n",
              "  "
            ]
          },
          "metadata": {},
          "execution_count": 19
        }
      ]
    },
    {
      "cell_type": "markdown",
      "source": [
        "------------------------------------------------------------------------------------------------------------------------------------------"
      ],
      "metadata": {
        "papermill": {
          "duration": 0.048128,
          "end_time": "2023-05-09T08:38:52.031041",
          "exception": false,
          "start_time": "2023-05-09T08:38:51.982913",
          "status": "completed"
        },
        "tags": [],
        "execution": {
          "iopub.status.busy": "2023-06-04T08:03:09.847251Z",
          "iopub.execute_input": "2023-06-04T08:03:09.847742Z",
          "iopub.status.idle": "2023-06-04T08:03:09.877955Z",
          "shell.execute_reply.started": "2023-06-04T08:03:09.847707Z",
          "shell.execute_reply": "2023-06-04T08:03:09.875731Z"
        },
        "id": "gR2XelkBzezB"
      }
    },
    {
      "cell_type": "markdown",
      "source": [
        "# Training\n",
        "\n",
        "Next, we will use Tensorflow to train a Deep Neural Network with the protein embeddings."
      ],
      "metadata": {
        "papermill": {
          "duration": 0.010523,
          "end_time": "2023-05-09T08:38:52.052433",
          "exception": false,
          "start_time": "2023-05-09T08:38:52.04191",
          "status": "completed"
        },
        "tags": [],
        "id": "NGFmJTplzezI"
      }
    },
    {
      "cell_type": "code",
      "source": [
        "train_df.shape"
      ],
      "metadata": {
        "execution": {
          "iopub.status.busy": "2023-06-04T13:12:15.595860Z",
          "iopub.execute_input": "2023-06-04T13:12:15.597160Z",
          "iopub.status.idle": "2023-06-04T13:12:15.603108Z",
          "shell.execute_reply.started": "2023-06-04T13:12:15.597120Z",
          "shell.execute_reply": "2023-06-04T13:12:15.602096Z"
        },
        "trusted": true,
        "colab": {
          "base_uri": "https://localhost:8080/"
        },
        "id": "s69YXWPczezI",
        "outputId": "3ac5207f-8e15-4054-cfd9-04ff996a7572"
      },
      "execution_count": null,
      "outputs": [
        {
          "output_type": "execute_result",
          "data": {
            "text/plain": [
              "(142246, 1024)"
            ]
          },
          "metadata": {},
          "execution_count": 20
        }
      ]
    },
    {
      "cell_type": "code",
      "source": [
        "labels_df.shape"
      ],
      "metadata": {
        "execution": {
          "iopub.status.busy": "2023-06-04T13:55:36.304049Z",
          "iopub.execute_input": "2023-06-04T13:55:36.304592Z",
          "iopub.status.idle": "2023-06-04T13:55:36.314044Z",
          "shell.execute_reply.started": "2023-06-04T13:55:36.304552Z",
          "shell.execute_reply": "2023-06-04T13:55:36.312633Z"
        },
        "trusted": true,
        "colab": {
          "base_uri": "https://localhost:8080/"
        },
        "id": "JORMAZ19zezI",
        "outputId": "1f93def4-8f1e-4a74-9334-42785fd3b0e1"
      },
      "execution_count": null,
      "outputs": [
        {
          "output_type": "execute_result",
          "data": {
            "text/plain": [
              "(142246, 1500)"
            ]
          },
          "metadata": {},
          "execution_count": 21
        }
      ]
    },
    {
      "cell_type": "code",
      "source": [
        "INPUT_SHAPE = [train_df.shape[1]]\n",
        "BATCH_SIZE = 5120\n",
        "\n",
        "model = tf.keras.Sequential([\n",
        "    tf.keras.layers.BatchNormalization(input_shape=INPUT_SHAPE),    \n",
        "    tf.keras.layers.Dense(units=512, activation='relu'),\n",
        "    tf.keras.layers.Dense(units=512, activation='relu'),\n",
        "    tf.keras.layers.Dense(units=512, activation='relu'),\n",
        "    tf.keras.layers.Dense(units=num_of_labels,activation='sigmoid')\n",
        "])\n",
        "\n",
        "model.compile(\n",
        "    optimizer=tf.keras.optimizers.Adam(learning_rate=0.001),\n",
        "    loss='binary_crossentropy',\n",
        "    metrics=['binary_accuracy', tf.keras.metrics.AUC()],\n",
        ")\n",
        "\n",
        "history = model.fit(\n",
        "    train_df, \n",
        "    labels_df,\n",
        "    batch_size=BATCH_SIZE,\n",
        "    epochs=10\n",
        ")"
      ],
      "metadata": {
        "papermill": {
          "duration": 128.96621,
          "end_time": "2023-05-09T08:41:01.029422",
          "exception": false,
          "start_time": "2023-05-09T08:38:52.063212",
          "status": "completed"
        },
        "tags": [],
        "execution": {
          "iopub.status.busy": "2023-06-04T13:41:29.515070Z",
          "iopub.execute_input": "2023-06-04T13:41:29.515597Z",
          "iopub.status.idle": "2023-06-04T13:46:02.381438Z",
          "shell.execute_reply.started": "2023-06-04T13:41:29.515545Z",
          "shell.execute_reply": "2023-06-04T13:46:02.380180Z"
        },
        "trusted": true,
        "colab": {
          "base_uri": "https://localhost:8080/",
          "height": 235
        },
        "id": "nJh31qREzezJ",
        "outputId": "a1a12f28-87ea-4293-8a1c-ccfa3020b8dd"
      },
      "execution_count": null,
      "outputs": [
        {
          "output_type": "error",
          "ename": "NameError",
          "evalue": "ignored",
          "traceback": [
            "\u001b[0;31m---------------------------------------------------------------------------\u001b[0m",
            "\u001b[0;31mNameError\u001b[0m                                 Traceback (most recent call last)",
            "\u001b[0;32m<ipython-input-5-d5a053f016df>\u001b[0m in \u001b[0;36m<cell line: 1>\u001b[0;34m()\u001b[0m\n\u001b[0;32m----> 1\u001b[0;31m \u001b[0mINPUT_SHAPE\u001b[0m \u001b[0;34m=\u001b[0m \u001b[0;34m[\u001b[0m\u001b[0mtrain_df\u001b[0m\u001b[0;34m.\u001b[0m\u001b[0mshape\u001b[0m\u001b[0;34m[\u001b[0m\u001b[0;36m1\u001b[0m\u001b[0;34m]\u001b[0m\u001b[0;34m]\u001b[0m\u001b[0;34m\u001b[0m\u001b[0;34m\u001b[0m\u001b[0m\n\u001b[0m\u001b[1;32m      2\u001b[0m \u001b[0mBATCH_SIZE\u001b[0m \u001b[0;34m=\u001b[0m \u001b[0;36m5120\u001b[0m\u001b[0;34m\u001b[0m\u001b[0;34m\u001b[0m\u001b[0m\n\u001b[1;32m      3\u001b[0m \u001b[0;34m\u001b[0m\u001b[0m\n\u001b[1;32m      4\u001b[0m model = tf.keras.Sequential([\n\u001b[1;32m      5\u001b[0m     \u001b[0mtf\u001b[0m\u001b[0;34m.\u001b[0m\u001b[0mkeras\u001b[0m\u001b[0;34m.\u001b[0m\u001b[0mlayers\u001b[0m\u001b[0;34m.\u001b[0m\u001b[0mBatchNormalization\u001b[0m\u001b[0;34m(\u001b[0m\u001b[0minput_shape\u001b[0m\u001b[0;34m=\u001b[0m\u001b[0mINPUT_SHAPE\u001b[0m\u001b[0;34m)\u001b[0m\u001b[0;34m,\u001b[0m\u001b[0;34m\u001b[0m\u001b[0;34m\u001b[0m\u001b[0m\n",
            "\u001b[0;31mNameError\u001b[0m: name 'train_df' is not defined"
          ]
        }
      ]
    },
    {
      "cell_type": "code",
      "source": [
        "# !mkdir model\n",
        "model.save(\"/kaggle/working/model/model_1.h5\")"
      ],
      "metadata": {
        "execution": {
          "iopub.status.busy": "2023-06-04T13:48:38.101138Z",
          "iopub.execute_input": "2023-06-04T13:48:38.101698Z",
          "iopub.status.idle": "2023-06-04T13:48:38.308143Z",
          "shell.execute_reply.started": "2023-06-04T13:48:38.101655Z",
          "shell.execute_reply": "2023-06-04T13:48:38.306648Z"
        },
        "trusted": true,
        "id": "H_3SnXrAzezJ"
      },
      "execution_count": null,
      "outputs": []
    },
    {
      "cell_type": "markdown",
      "source": [
        "# Plot the model's loss and accuracy for each epoch"
      ],
      "metadata": {
        "papermill": {
          "duration": 0.019782,
          "end_time": "2023-05-09T08:41:01.06997",
          "exception": false,
          "start_time": "2023-05-09T08:41:01.050188",
          "status": "completed"
        },
        "tags": [],
        "id": "u0nhXxdOzezJ"
      }
    },
    {
      "cell_type": "code",
      "source": [
        "history_df = pd.DataFrame(history.history)\n",
        "history_df.loc[:, ['loss']].plot(title=\"Cross-entropy\")\n",
        "history_df.loc[:, ['binary_accuracy']].plot(title=\"Accuracy\")"
      ],
      "metadata": {
        "papermill": {
          "duration": 0.647806,
          "end_time": "2023-05-09T08:41:01.737745",
          "exception": false,
          "start_time": "2023-05-09T08:41:01.089939",
          "status": "completed"
        },
        "tags": [],
        "execution": {
          "iopub.status.busy": "2023-06-04T13:49:29.268448Z",
          "iopub.execute_input": "2023-06-04T13:49:29.268940Z",
          "iopub.status.idle": "2023-06-04T13:49:30.064737Z",
          "shell.execute_reply.started": "2023-06-04T13:49:29.268907Z",
          "shell.execute_reply": "2023-06-04T13:49:30.063447Z"
        },
        "trusted": true,
        "colab": {
          "base_uri": "https://localhost:8080/",
          "height": 904
        },
        "id": "c6kufgcXzezK",
        "outputId": "322ddf5f-9563-4301-c250-19d3731ae987"
      },
      "execution_count": null,
      "outputs": [
        {
          "output_type": "execute_result",
          "data": {
            "text/plain": [
              "<Axes: title={'center': 'Accuracy'}>"
            ]
          },
          "metadata": {},
          "execution_count": 24
        },
        {
          "output_type": "display_data",
          "data": {
            "text/plain": [
              "<Figure size 640x480 with 1 Axes>"
            ],
            "image/png": "[encoded data removed]"
          },
          "metadata": {}
        },
        {
          "output_type": "display_data",
          "data": {
            "text/plain": [
              "<Figure size 640x480 with 1 Axes>"
            ],
            "image/png": "[encoded data removed]"
          },
          "metadata": {}
        }
      ]
    },
    {
      "cell_type": "markdown",
      "source": [
        "# Submission"
      ],
      "metadata": {
        "papermill": {
          "duration": 0.021665,
          "end_time": "2023-05-09T08:41:01.780867",
          "exception": false,
          "start_time": "2023-05-09T08:41:01.759202",
          "status": "completed"
        },
        "tags": [],
        "id": "nKOoZ82WzezK"
      }
    },
    {
      "cell_type": "markdown",
      "source": [
        "For submission we will use the protein embeddings of the test data created by [Sergei Fironov](https://www.kaggle.com/sergeifironov) using the Rost Lab's T5 protein language model."
      ],
      "metadata": {
        "papermill": {
          "duration": 0.02075,
          "end_time": "2023-05-09T08:41:01.82296",
          "exception": false,
          "start_time": "2023-05-09T08:41:01.80221",
          "status": "completed"
        },
        "tags": [],
        "id": "2egmES4MzezK"
      }
    },
    {
      "cell_type": "code",
      "source": [
        "test_embeddings = np.load('/content/drive/MyDrive/t5embeds/test_embeds.npy')\n",
        "column_num = test_embeddings.shape[1]\n",
        "test_df = pd.DataFrame(test_embeddings, columns = [\"Column_\" + str(i) for i in range(1, column_num+1)])\n",
        "test_df"
      ],
      "metadata": {
        "papermill": {
          "duration": 10.290827,
          "end_time": "2023-05-09T08:41:12.134919",
          "exception": false,
          "start_time": "2023-05-09T08:41:01.844092",
          "status": "completed"
        },
        "tags": [],
        "execution": {
          "iopub.status.busy": "2023-06-04T13:49:49.390323Z",
          "iopub.execute_input": "2023-06-04T13:49:49.391734Z",
          "iopub.status.idle": "2023-06-04T13:50:00.832005Z",
          "shell.execute_reply.started": "2023-06-04T13:49:49.391688Z",
          "shell.execute_reply": "2023-06-04T13:50:00.830260Z"
        },
        "trusted": true,
        "colab": {
          "base_uri": "https://localhost:8080/",
          "height": 487
        },
        "id": "gTz8md_9zezK",
        "outputId": "a5b89277-a88e-48f8-a54d-91949be137c2"
      },
      "execution_count": null,
      "outputs": [
        {
          "output_type": "execute_result",
          "data": {
            "text/plain": [
              "        Column_1  Column_2  Column_3  Column_4  Column_5  Column_6  Column_7  \\\n",
              "0       0.054705  0.063420 -0.015320 -0.016506  0.042195  0.021592 -0.118535   \n",
              "1       0.090373  0.089842 -0.023887 -0.011446  0.051465  0.020982 -0.110989   \n",
              "2       0.043588  0.039572 -0.014332 -0.011769  0.045109  0.015847 -0.103339   \n",
              "3       0.055668  0.049560 -0.019646 -0.006977  0.039897  0.021177 -0.108079   \n",
              "4       0.022637  0.014306 -0.002696 -0.034456  0.034854  0.020822 -0.114046   \n",
              "...          ...       ...       ...       ...       ...       ...       ...   \n",
              "141860  0.081780  0.077098  0.006294 -0.073283 -0.064078  0.011976  0.018399   \n",
              "141861  0.041950  0.159886  0.033731 -0.087298 -0.002340 -0.015892  0.034585   \n",
              "141862  0.032748  0.141868  0.034142 -0.063111 -0.006216 -0.025474  0.036954   \n",
              "141863  0.052713  0.157013  0.043279 -0.065428 -0.010776 -0.034223  0.042106   \n",
              "141864  0.041877  0.134041  0.079094 -0.056902  0.008855 -0.055976  0.019338   \n",
              "\n",
              "        Column_8  Column_9  Column_10  ...  Column_1015  Column_1016  \\\n",
              "0      -0.063298 -0.046146  -0.102311  ...    -0.019581    -0.043712   \n",
              "1      -0.066646 -0.041259  -0.087551  ...    -0.024399    -0.041957   \n",
              "2      -0.047735 -0.022730  -0.091452  ...    -0.029648    -0.037944   \n",
              "3      -0.047191 -0.031517  -0.100057  ...    -0.023210    -0.041704   \n",
              "4      -0.050019 -0.026491  -0.097928  ...    -0.019185    -0.032108   \n",
              "...          ...       ...        ...  ...          ...          ...   \n",
              "141860 -0.102211  0.078021   0.018553  ...    -0.030738    -0.039566   \n",
              "141861 -0.163370 -0.030956  -0.047006  ...    -0.073472    -0.017192   \n",
              "141862 -0.156333 -0.021958  -0.040103  ...    -0.067549    -0.024079   \n",
              "141863 -0.156888 -0.020948  -0.047612  ...    -0.061063    -0.011962   \n",
              "141864 -0.234666 -0.029368  -0.073774  ...    -0.060155    -0.031367   \n",
              "\n",
              "        Column_1017  Column_1018  Column_1019  Column_1020  Column_1021  \\\n",
              "0         -0.072322     0.002404     0.018459    -0.047278     0.012195   \n",
              "1         -0.066329     0.006856     0.028449    -0.053758     0.009699   \n",
              "2         -0.046043     0.003603     0.018028    -0.030746     0.003671   \n",
              "3         -0.048440     0.006088     0.020110    -0.046751    -0.006635   \n",
              "4         -0.051394     0.008448     0.015208    -0.037987     0.030977   \n",
              "...             ...          ...          ...          ...          ...   \n",
              "141860    -0.096722    -0.127187     0.076231     0.012758     0.037633   \n",
              "141861    -0.026210    -0.072754    -0.017928    -0.027033     0.030544   \n",
              "141862    -0.042062    -0.069278    -0.028636    -0.009337     0.035751   \n",
              "141863    -0.006918    -0.067281     0.026953    -0.025858     0.041463   \n",
              "141864    -0.043828    -0.058645    -0.005515     0.003748     0.045020   \n",
              "\n",
              "        Column_1022  Column_1023  Column_1024  \n",
              "0         -0.043319     0.036009     0.063093  \n",
              "1         -0.053350     0.019644     0.079630  \n",
              "2         -0.044464     0.030974     0.040322  \n",
              "3         -0.041455     0.016683     0.057030  \n",
              "4         -0.042407     0.041232     0.047161  \n",
              "...             ...          ...          ...  \n",
              "141860     0.005712     0.054623     0.024194  \n",
              "141861     0.016664     0.058192    -0.004196  \n",
              "141862     0.020646     0.054677    -0.015048  \n",
              "141863     0.021591     0.062583    -0.014903  \n",
              "141864     0.054112     0.015767    -0.028817  \n",
              "\n",
              "[141865 rows x 1024 columns]"
            ],
            "text/html": [
              "\n",
              "  <div id=\"df-3c96c3c3-8b46-4d44-a9c4-78a26f570f2a\">\n",
              "    <div class=\"colab-df-container\">\n",
              "      <div>\n",
              "<style scoped>\n",
              "    .dataframe tbody tr th:only-of-type {\n",
              "        vertical-align: middle;\n",
              "    }\n",
              "\n",
              "    .dataframe tbody tr th {\n",
              "        vertical-align: top;\n",
              "    }\n",
              "\n",
              "    .dataframe thead th {\n",
              "        text-align: right;\n",
              "    }\n",
              "</style>\n",
              "<table border=\"1\" class=\"dataframe\">\n",
              "  <thead>\n",
              "    <tr style=\"text-align: right;\">\n",
              "      <th></th>\n",
              "      <th>Column_1</th>\n",
              "      <th>Column_2</th>\n",
              "      <th>Column_3</th>\n",
              "      <th>Column_4</th>\n",
              "      <th>Column_5</th>\n",
              "      <th>Column_6</th>\n",
              "      <th>Column_7</th>\n",
              "      <th>Column_8</th>\n",
              "      <th>Column_9</th>\n",
              "      <th>Column_10</th>\n",
              "      <th>...</th>\n",
              "      <th>Column_1015</th>\n",
              "      <th>Column_1016</th>\n",
              "      <th>Column_1017</th>\n",
              "      <th>Column_1018</th>\n",
              "      <th>Column_1019</th>\n",
              "      <th>Column_1020</th>\n",
              "      <th>Column_1021</th>\n",
              "      <th>Column_1022</th>\n",
              "      <th>Column_1023</th>\n",
              "      <th>Column_1024</th>\n",
              "    </tr>\n",
              "  </thead>\n",
              "  <tbody>\n",
              "    <tr>\n",
              "      <th>0</th>\n",
              "      <td>0.054705</td>\n",
              "      <td>0.063420</td>\n",
              "      <td>-0.015320</td>\n",
              "      <td>-0.016506</td>\n",
              "      <td>0.042195</td>\n",
              "      <td>0.021592</td>\n",
              "      <td>-0.118535</td>\n",
              "      <td>-0.063298</td>\n",
              "      <td>-0.046146</td>\n",
              "      <td>-0.102311</td>\n",
              "      <td>...</td>\n",
              "      <td>-0.019581</td>\n",
              "      <td>-0.043712</td>\n",
              "      <td>-0.072322</td>\n",
              "      <td>0.002404</td>\n",
              "      <td>0.018459</td>\n",
              "      <td>-0.047278</td>\n",
              "      <td>0.012195</td>\n",
              "      <td>-0.043319</td>\n",
              "      <td>0.036009</td>\n",
              "      <td>0.063093</td>\n",
              "    </tr>\n",
              "    <tr>\n",
              "      <th>1</th>\n",
              "      <td>0.090373</td>\n",
              "      <td>0.089842</td>\n",
              "      <td>-0.023887</td>\n",
              "      <td>-0.011446</td>\n",
              "      <td>0.051465</td>\n",
              "      <td>0.020982</td>\n",
              "      <td>-0.110989</td>\n",
              "      <td>-0.066646</td>\n",
              "      <td>-0.041259</td>\n",
              "      <td>-0.087551</td>\n",
              "      <td>...</td>\n",
              "      <td>-0.024399</td>\n",
              "      <td>-0.041957</td>\n",
              "      <td>-0.066329</td>\n",
              "      <td>0.006856</td>\n",
              "      <td>0.028449</td>\n",
              "      <td>-0.053758</td>\n",
              "      <td>0.009699</td>\n",
              "      <td>-0.053350</td>\n",
              "      <td>0.019644</td>\n",
              "      <td>0.079630</td>\n",
              "    </tr>\n",
              "    <tr>\n",
              "      <th>2</th>\n",
              "      <td>0.043588</td>\n",
              "      <td>0.039572</td>\n",
              "      <td>-0.014332</td>\n",
              "      <td>-0.011769</td>\n",
              "      <td>0.045109</td>\n",
              "      <td>0.015847</td>\n",
              "      <td>-0.103339</td>\n",
              "      <td>-0.047735</td>\n",
              "      <td>-0.022730</td>\n",
              "      <td>-0.091452</td>\n",
              "      <td>...</td>\n",
              "      <td>-0.029648</td>\n",
              "      <td>-0.037944</td>\n",
              "      <td>-0.046043</td>\n",
              "      <td>0.003603</td>\n",
              "      <td>0.018028</td>\n",
              "      <td>-0.030746</td>\n",
              "      <td>0.003671</td>\n",
              "      <td>-0.044464</td>\n",
              "      <td>0.030974</td>\n",
              "      <td>0.040322</td>\n",
              "    </tr>\n",
              "    <tr>\n",
              "      <th>3</th>\n",
              "      <td>0.055668</td>\n",
              "      <td>0.049560</td>\n",
              "      <td>-0.019646</td>\n",
              "      <td>-0.006977</td>\n",
              "      <td>0.039897</td>\n",
              "      <td>0.021177</td>\n",
              "      <td>-0.108079</td>\n",
              "      <td>-0.047191</td>\n",
              "      <td>-0.031517</td>\n",
              "      <td>-0.100057</td>\n",
              "      <td>...</td>\n",
              "      <td>-0.023210</td>\n",
              "      <td>-0.041704</td>\n",
              "      <td>-0.048440</td>\n",
              "      <td>0.006088</td>\n",
              "      <td>0.020110</td>\n",
              "      <td>-0.046751</td>\n",
              "      <td>-0.006635</td>\n",
              "      <td>-0.041455</td>\n",
              "      <td>0.016683</td>\n",
              "      <td>0.057030</td>\n",
              "    </tr>\n",
              "    <tr>\n",
              "      <th>4</th>\n",
              "      <td>0.022637</td>\n",
              "      <td>0.014306</td>\n",
              "      <td>-0.002696</td>\n",
              "      <td>-0.034456</td>\n",
              "      <td>0.034854</td>\n",
              "      <td>0.020822</td>\n",
              "      <td>-0.114046</td>\n",
              "      <td>-0.050019</td>\n",
              "      <td>-0.026491</td>\n",
              "      <td>-0.097928</td>\n",
              "      <td>...</td>\n",
              "      <td>-0.019185</td>\n",
              "      <td>-0.032108</td>\n",
              "      <td>-0.051394</td>\n",
              "      <td>0.008448</td>\n",
              "      <td>0.015208</td>\n",
              "      <td>-0.037987</td>\n",
              "      <td>0.030977</td>\n",
              "      <td>-0.042407</td>\n",
              "      <td>0.041232</td>\n",
              "      <td>0.047161</td>\n",
              "    </tr>\n",
              "    <tr>\n",
              "      <th>...</th>\n",
              "      <td>...</td>\n",
              "      <td>...</td>\n",
              "      <td>...</td>\n",
              "      <td>...</td>\n",
              "      <td>...</td>\n",
              "      <td>...</td>\n",
              "      <td>...</td>\n",
              "      <td>...</td>\n",
              "      <td>...</td>\n",
              "      <td>...</td>\n",
              "      <td>...</td>\n",
              "      <td>...</td>\n",
              "      <td>...</td>\n",
              "      <td>...</td>\n",
              "      <td>...</td>\n",
              "      <td>...</td>\n",
              "      <td>...</td>\n",
              "      <td>...</td>\n",
              "      <td>...</td>\n",
              "      <td>...</td>\n",
              "      <td>...</td>\n",
              "    </tr>\n",
              "    <tr>\n",
              "      <th>141860</th>\n",
              "      <td>0.081780</td>\n",
              "      <td>0.077098</td>\n",
              "      <td>0.006294</td>\n",
              "      <td>-0.073283</td>\n",
              "      <td>-0.064078</td>\n",
              "      <td>0.011976</td>\n",
              "      <td>0.018399</td>\n",
              "      <td>-0.102211</td>\n",
              "      <td>0.078021</td>\n",
              "      <td>0.018553</td>\n",
              "      <td>...</td>\n",
              "      <td>-0.030738</td>\n",
              "      <td>-0.039566</td>\n",
              "      <td>-0.096722</td>\n",
              "      <td>-0.127187</td>\n",
              "      <td>0.076231</td>\n",
              "      <td>0.012758</td>\n",
              "      <td>0.037633</td>\n",
              "      <td>0.005712</td>\n",
              "      <td>0.054623</td>\n",
              "      <td>0.024194</td>\n",
              "    </tr>\n",
              "    <tr>\n",
              "      <th>141861</th>\n",
              "      <td>0.041950</td>\n",
              "      <td>0.159886</td>\n",
              "      <td>0.033731</td>\n",
              "      <td>-0.087298</td>\n",
              "      <td>-0.002340</td>\n",
              "      <td>-0.015892</td>\n",
              "      <td>0.034585</td>\n",
              "      <td>-0.163370</td>\n",
              "      <td>-0.030956</td>\n",
              "      <td>-0.047006</td>\n",
              "      <td>...</td>\n",
              "      <td>-0.073472</td>\n",
              "      <td>-0.017192</td>\n",
              "      <td>-0.026210</td>\n",
              "      <td>-0.072754</td>\n",
              "      <td>-0.017928</td>\n",
              "      <td>-0.027033</td>\n",
              "      <td>0.030544</td>\n",
              "      <td>0.016664</td>\n",
              "      <td>0.058192</td>\n",
              "      <td>-0.004196</td>\n",
              "    </tr>\n",
              "    <tr>\n",
              "      <th>141862</th>\n",
              "      <td>0.032748</td>\n",
              "      <td>0.141868</td>\n",
              "      <td>0.034142</td>\n",
              "      <td>-0.063111</td>\n",
              "      <td>-0.006216</td>\n",
              "      <td>-0.025474</td>\n",
              "      <td>0.036954</td>\n",
              "      <td>-0.156333</td>\n",
              "      <td>-0.021958</td>\n",
              "      <td>-0.040103</td>\n",
              "      <td>...</td>\n",
              "      <td>-0.067549</td>\n",
              "      <td>-0.024079</td>\n",
              "      <td>-0.042062</td>\n",
              "      <td>-0.069278</td>\n",
              "      <td>-0.028636</td>\n",
              "      <td>-0.009337</td>\n",
              "      <td>0.035751</td>\n",
              "      <td>0.020646</td>\n",
              "      <td>0.054677</td>\n",
              "      <td>-0.015048</td>\n",
              "    </tr>\n",
              "    <tr>\n",
              "      <th>141863</th>\n",
              "      <td>0.052713</td>\n",
              "      <td>0.157013</td>\n",
              "      <td>0.043279</td>\n",
              "      <td>-0.065428</td>\n",
              "      <td>-0.010776</td>\n",
              "      <td>-0.034223</td>\n",
              "      <td>0.042106</td>\n",
              "      <td>-0.156888</td>\n",
              "      <td>-0.020948</td>\n",
              "      <td>-0.047612</td>\n",
              "      <td>...</td>\n",
              "      <td>-0.061063</td>\n",
              "      <td>-0.011962</td>\n",
              "      <td>-0.006918</td>\n",
              "      <td>-0.067281</td>\n",
              "      <td>0.026953</td>\n",
              "      <td>-0.025858</td>\n",
              "      <td>0.041463</td>\n",
              "      <td>0.021591</td>\n",
              "      <td>0.062583</td>\n",
              "      <td>-0.014903</td>\n",
              "    </tr>\n",
              "    <tr>\n",
              "      <th>141864</th>\n",
              "      <td>0.041877</td>\n",
              "      <td>0.134041</td>\n",
              "      <td>0.079094</td>\n",
              "      <td>-0.056902</td>\n",
              "      <td>0.008855</td>\n",
              "      <td>-0.055976</td>\n",
              "      <td>0.019338</td>\n",
              "      <td>-0.234666</td>\n",
              "      <td>-0.029368</td>\n",
              "      <td>-0.073774</td>\n",
              "      <td>...</td>\n",
              "      <td>-0.060155</td>\n",
              "      <td>-0.031367</td>\n",
              "      <td>-0.043828</td>\n",
              "      <td>-0.058645</td>\n",
              "      <td>-0.005515</td>\n",
              "      <td>0.003748</td>\n",
              "      <td>0.045020</td>\n",
              "      <td>0.054112</td>\n",
              "      <td>0.015767</td>\n",
              "      <td>-0.028817</td>\n",
              "    </tr>\n",
              "  </tbody>\n",
              "</table>\n",
              "<p>141865 rows × 1024 columns</p>\n",
              "</div>\n",
              "      <button class=\"colab-df-convert\" onclick=\"convertToInteractive('df-3c96c3c3-8b46-4d44-a9c4-78a26f570f2a')\"\n",
              "              title=\"Convert this dataframe to an interactive table.\"\n",
              "              style=\"display:none;\">\n",
              "        \n",
              "  <svg xmlns=\"http://www.w3.org/2000/svg\" height=\"24px\"viewBox=\"0 0 24 24\"\n",
              "       width=\"24px\">\n",
              "    <path d=\"M0 0h24v24H0V0z\" fill=\"none\"/>\n",
              "    <path d=\"M18.56 5.44l.94 2.06.94-2.06 2.06-.94-2.06-.94-.94-2.06-.94 2.06-2.06.94zm-11 1L8.5 8.5l.94-2.06 2.06-.94-2.06-.94L8.5 2.5l-.94 2.06-2.06.94zm10 10l.94 2.06.94-2.06 2.06-.94-2.06-.94-.94-2.06-.94 2.06-2.06.94z\"/><path d=\"M17.41 7.96l-1.37-1.37c-.4-.4-.92-.59-1.43-.59-.52 0-1.04.2-1.43.59L10.3 9.45l-7.72 7.72c-.78.78-.78 2.05 0 2.83L4 21.41c.39.39.9.59 1.41.59.51 0 1.02-.2 1.41-.59l7.78-7.78 2.81-2.81c.8-.78.8-2.07 0-2.86zM5.41 20L4 18.59l7.72-7.72 1.47 1.35L5.41 20z\"/>\n",
              "  </svg>\n",
              "      </button>\n",
              "      \n",
              "  <style>\n",
              "    .colab-df-container {\n",
              "      display:flex;\n",
              "      flex-wrap:wrap;\n",
              "      gap: 12px;\n",
              "    }\n",
              "\n",
              "    .colab-df-convert {\n",
              "      background-color: #E8F0FE;\n",
              "      border: none;\n",
              "      border-radius: 50%;\n",
              "      cursor: pointer;\n",
              "      display: none;\n",
              "      fill: #1967D2;\n",
              "      height: 32px;\n",
              "      padding: 0 0 0 0;\n",
              "      width: 32px;\n",
              "    }\n",
              "\n",
              "    .colab-df-convert:hover {\n",
              "      background-color: #E2EBFA;\n",
              "      box-shadow: 0px 1px 2px rgba(60, 64, 67, 0.3), 0px 1px 3px 1px rgba(60, 64, 67, 0.15);\n",
              "      fill: #174EA6;\n",
              "    }\n",
              "\n",
              "    [theme=dark] .colab-df-convert {\n",
              "      background-color: #3B4455;\n",
              "      fill: #D2E3FC;\n",
              "    }\n",
              "\n",
              "    [theme=dark] .colab-df-convert:hover {\n",
              "      background-color: #434B5C;\n",
              "      box-shadow: 0px 1px 3px 1px rgba(0, 0, 0, 0.15);\n",
              "      filter: drop-shadow(0px 1px 2px rgba(0, 0, 0, 0.3));\n",
              "      fill: #FFFFFF;\n",
              "    }\n",
              "  </style>\n",
              "\n",
              "      <script>\n",
              "        const buttonEl =\n",
              "          document.querySelector('#df-3c96c3c3-8b46-4d44-a9c4-78a26f570f2a button.colab-df-convert');\n",
              "        buttonEl.style.display =\n",
              "          google.colab.kernel.accessAllowed ? 'block' : 'none';\n",
              "\n",
              "        async function convertToInteractive(key) {\n",
              "          const element = document.querySelector('#df-3c96c3c3-8b46-4d44-a9c4-78a26f570f2a');\n",
              "          const dataTable =\n",
              "            await google.colab.kernel.invokeFunction('convertToInteractive',\n",
              "                                                     [key], {});\n",
              "          if (!dataTable) return;\n",
              "\n",
              "          const docLinkHtml = 'Like what you see? Visit the ' +\n",
              "            '<a target=\"_blank\" href=https://colab.research.google.com/notebooks/data_table.ipynb>data table notebook</a>'\n",
              "            + ' to learn more about interactive tables.';\n",
              "          element.innerHTML = '';\n",
              "          dataTable['output_type'] = 'display_data';\n",
              "          await google.colab.output.renderOutput(dataTable, element);\n",
              "          const docLink = document.createElement('div');\n",
              "          docLink.innerHTML = docLinkHtml;\n",
              "          element.appendChild(docLink);\n",
              "        }\n",
              "      </script>\n",
              "    </div>\n",
              "  </div>\n",
              "  "
            ]
          },
          "metadata": {},
          "execution_count": 5
        }
      ]
    },
    {
      "cell_type": "code",
      "source": [
        "from tensorflow.keras.models import load_model\n",
        "model=load_model('/content/drive/MyDrive/model_1.h5')\n",
        "predictions =  model.predict(test_df)"
      ],
      "metadata": {
        "papermill": {
          "duration": 663.907351,
          "end_time": "2023-05-09T08:52:16.178461",
          "exception": false,
          "start_time": "2023-05-09T08:41:12.27111",
          "status": "completed"
        },
        "tags": [],
        "execution": {
          "iopub.status.busy": "2023-06-04T13:56:50.673081Z",
          "iopub.execute_input": "2023-06-04T13:56:50.673720Z",
          "iopub.status.idle": "2023-06-04T13:57:21.989682Z",
          "shell.execute_reply.started": "2023-06-04T13:56:50.673669Z",
          "shell.execute_reply": "2023-06-04T13:57:21.988047Z"
        },
        "trusted": true,
        "id": "ZA4IeFERzezL"
      },
      "execution_count": null,
      "outputs": []
    },
    {
      "cell_type": "code",
      "source": [
        "import pickle\n",
        "file_path = '/content/drive/MyDrive/predictions'\n",
        "with open(file_path, 'wb') as file:\n",
        "    pickle.dump(predictions, file)"
      ],
      "metadata": {
        "id": "O1pAxsI0ONdg"
      },
      "execution_count": null,
      "outputs": []
    },
    {
      "cell_type": "code",
      "source": [
        "import pickle\n",
        "file_path = '/content/drive/MyDrive/predictions'\n",
        "with open(file_path, 'rb') as file:\n",
        "    predictions = pickle.load(file)"
      ],
      "metadata": {
        "id": "Vc32mTvoO4t0"
      },
      "execution_count": null,
      "outputs": []
    },
    {
      "cell_type": "code",
      "source": [
        "predictions.shape"
      ],
      "metadata": {
        "execution": {
          "iopub.status.busy": "2023-06-04T14:03:00.978783Z",
          "iopub.execute_input": "2023-06-04T14:03:00.979287Z",
          "iopub.status.idle": "2023-06-04T14:03:00.989006Z",
          "shell.execute_reply.started": "2023-06-04T14:03:00.979252Z",
          "shell.execute_reply": "2023-06-04T14:03:00.987411Z"
        },
        "trusted": true,
        "id": "UwfstJflzezL",
        "outputId": "04b115dc-8bb6-4f9d-c6f6-81960908dfc2"
      },
      "execution_count": null,
      "outputs": [
        {
          "execution_count": 40,
          "output_type": "execute_result",
          "data": {
            "text/plain": "(141865, 1500)"
          },
          "metadata": {}
        }
      ]
    },
    {
      "cell_type": "markdown",
      "source": [
        "From the predictions we will create the submission data frame.\n",
        "\n",
        "**Note**: This will take atleast **15 to 20** minutes to finish."
      ],
      "metadata": {
        "id": "rn9i-7rczezL"
      }
    },
    {
      "cell_type": "code",
      "source": [
        "# Reference: https://www.kaggle.com/code/alexandervc/baseline-multilabel-to-multitarget-binary\n",
        "\n",
        "df_submission = pd.DataFrame(columns = ['Protein Id', 'GO Term Id','Prediction'])\n",
        "test_protein_ids = np.load('/content/drive/MyDrive/t5embeds/test_ids.npy')\n",
        "l = []\n",
        "for k in list(test_protein_ids):\n",
        "    l += [k]*predictions.shape[1]   \n",
        "df_submission['Protein Id'] = l\n",
        "df_submission['GO Term Id'] = labels * predictions.shape[0]\n",
        "df_submission['Prediction'] = predictions.ravel()\n",
        "df_submission.to_csv(\"submission.tsv\",header=False, index=False, sep=\"\\t\")"
      ],
      "metadata": {
        "execution": {
          "iopub.status.busy": "2023-06-04T13:58:31.683449Z",
          "iopub.execute_input": "2023-06-04T13:58:31.683924Z",
          "iopub.status.idle": "2023-06-04T14:00:08.452978Z",
          "shell.execute_reply.started": "2023-06-04T13:58:31.683890Z",
          "shell.execute_reply": "2023-06-04T14:00:08.451261Z"
        },
        "trusted": true,
        "id": "k5QYm5j8zezL"
      },
      "execution_count": null,
      "outputs": []
    },
    {
      "cell_type": "code",
      "source": [
        "predictions.ravel()"
      ],
      "metadata": {
        "trusted": true,
        "id": "enxQ5XbwzezM"
      },
      "execution_count": null,
      "outputs": []
    },
    {
      "cell_type": "code",
      "source": [
        "df_submission"
      ],
      "metadata": {
        "papermill": {
          "duration": 0.063739,
          "end_time": "2023-05-09T08:52:16.292974",
          "exception": false,
          "start_time": "2023-05-09T08:52:16.229235",
          "status": "completed"
        },
        "tags": [],
        "trusted": true,
        "id": "042MEi4bzezM"
      },
      "execution_count": null,
      "outputs": []
    }
  ]
}