{
  "nbformat": 4,
  "nbformat_minor": 0,
  "metadata": {
    "colab": {
      "provenance": [],
      "authorship_tag": "ABX9TyNKIe6kIcAJvnlPbjhcB1LZ",
      "include_colab_link": true
    },
    "kernelspec": {
      "name": "python3",
      "display_name": "Python 3"
    },
    "language_info": {
      "name": "python"
    },
    "accelerator": "GPU",
    "gpuClass": "standard"
  },
  "cells": [
    {
      "cell_type": "markdown",
      "metadata": {
        "id": "view-in-github",
        "colab_type": "text"
      },
      "source": [
        "<a href=\"https://colab.research.google.com/github/nnilayy/Recurrent-Neural-Networks/blob/main/Sentiment_Analysis.ipynb\" target=\"_parent\"><img src=\"https://colab.research.google.com/assets/colab-badge.svg\" alt=\"Open In Colab\"/></a>"
      ]
    },
    {
      "cell_type": "markdown",
      "source": [
        "##  Libraries"
      ],
      "metadata": {
        "id": "TL84bJY1Nmy9"
      }
    },
    {
      "cell_type": "code",
      "execution_count": 26,
      "metadata": {
        "id": "hRxjSv1eKGMl"
      },
      "outputs": [],
      "source": [
        "import tensorflow as tf\n",
        "from numpy import array\n",
        "from keras.preprocessing.text import one_hot\n",
        "from keras.utils import pad_sequences\n",
        "from keras.models import Sequential\n",
        "from keras.layers import Dense\n",
        "from keras.layers import Flatten\n",
        "from tensorflow.keras.layers import Embedding\n",
        "from tensorflow.keras.datasets import imdb\n",
        "from keras.preprocessing.text import Tokenizer"
      ]
    },
    {
      "cell_type": "markdown",
      "source": [
        "## Dataset"
      ],
      "metadata": {
        "id": "SfLC5FcANJr3"
      }
    },
    {
      "cell_type": "code",
      "source": [
        "(train_x,train_y),(test_x,test_y)=imdb.load_data(num_words=1000)"
      ],
      "metadata": {
        "id": "UGa3TXE9NMf2"
      },
      "execution_count": 63,
      "outputs": []
    },
    {
      "cell_type": "code",
      "source": [
        "print(\"Review is: \",train_x[5])\n",
        "print(\"Label is: \",train_y[5])"
      ],
      "metadata": {
        "id": "dgD6SlNufLAh"
      },
      "execution_count": null,
      "outputs": []
    },
    {
      "cell_type": "code",
      "source": [
        "# You Preprocess just on Features [X]\n",
        "sentence_length=100\n",
        "train_x=pad_sequences(train_x,maxlen=sentence_length,padding=\"post\")\n",
        "test_x=pad_sequences(test_x,maxlen=sentence_length,padding=\"post\")"
      ],
      "metadata": {
        "id": "QaSIE9rNfiRP"
      },
      "execution_count": 65,
      "outputs": []
    },
    {
      "cell_type": "code",
      "source": [
        "from keras.layers.rnn.simple_rnn import SimpleRNN\n",
        "model = Sequential()\n",
        "model.add(Embedding(1000, 64, input_length=100))\n",
        "model.add(SimpleRNN(128,return_sequences=True))\n",
        "model.add(SimpleRNN(64,return_sequences=True))\n",
        "model.add(SimpleRNN(32))\n",
        "# model.add(Flatten())\n",
        "model.add(Dense(1, activation='sigmoid'))\n",
        "model.summary()"
      ],
      "metadata": {
        "id": "Yh1eaO9tgfmJ"
      },
      "execution_count": null,
      "outputs": []
    },
    {
      "cell_type": "code",
      "source": [
        "model.compile(optimizer='rmsprop', loss='binary_crossentropy', metrics=['accuracy'])"
      ],
      "metadata": {
        "id": "U0fd0ivyhJ5-"
      },
      "execution_count": 105,
      "outputs": []
    },
    {
      "cell_type": "code",
      "source": [
        "model.fit(train_x, train_y, epochs=25, batch_size=512)"
      ],
      "metadata": {
        "colab": {
          "base_uri": "https://localhost:8080/"
        },
        "id": "-7zVTJSbkb_8",
        "outputId": "e8e3a500-1256-4275-b4d1-44c7a8f1b211"
      },
      "execution_count": 107,
      "outputs": [
        {
          "output_type": "stream",
          "name": "stdout",
          "text": [
            "Epoch 1/25\n",
            "49/49 [==============================] - 15s 297ms/step - loss: 0.6948 - accuracy: 0.5088\n",
            "Epoch 2/25\n",
            "49/49 [==============================] - 14s 290ms/step - loss: 0.6915 - accuracy: 0.5188\n",
            "Epoch 3/25\n",
            "49/49 [==============================] - 14s 290ms/step - loss: 0.6842 - accuracy: 0.5556\n",
            "Epoch 4/25\n",
            "49/49 [==============================] - 15s 311ms/step - loss: 0.6690 - accuracy: 0.5756\n",
            "Epoch 5/25\n",
            "49/49 [==============================] - 14s 291ms/step - loss: 0.6563 - accuracy: 0.5996\n",
            "Epoch 6/25\n",
            "49/49 [==============================] - 14s 288ms/step - loss: 0.6365 - accuracy: 0.6274\n",
            "Epoch 7/25\n",
            "49/49 [==============================] - 14s 288ms/step - loss: 0.6169 - accuracy: 0.6509\n",
            "Epoch 8/25\n",
            "49/49 [==============================] - 14s 289ms/step - loss: 0.5901 - accuracy: 0.6842\n",
            "Epoch 9/25\n",
            "49/49 [==============================] - 14s 287ms/step - loss: 0.5643 - accuracy: 0.7056\n",
            "Epoch 10/25\n",
            "49/49 [==============================] - 14s 295ms/step - loss: 0.5384 - accuracy: 0.7274\n",
            "Epoch 11/25\n",
            "49/49 [==============================] - 15s 307ms/step - loss: 0.5087 - accuracy: 0.7503\n",
            "Epoch 12/25\n",
            "49/49 [==============================] - 14s 294ms/step - loss: 0.4769 - accuracy: 0.7710\n",
            "Epoch 13/25\n",
            "49/49 [==============================] - 14s 290ms/step - loss: 0.4437 - accuracy: 0.7952\n",
            "Epoch 14/25\n",
            "49/49 [==============================] - 14s 291ms/step - loss: 0.4194 - accuracy: 0.8072\n",
            "Epoch 15/25\n",
            "49/49 [==============================] - 14s 292ms/step - loss: 0.3851 - accuracy: 0.8273\n",
            "Epoch 16/25\n",
            "49/49 [==============================] - 17s 337ms/step - loss: 0.3544 - accuracy: 0.8448\n",
            "Epoch 17/25\n",
            "49/49 [==============================] - 14s 288ms/step - loss: 0.3258 - accuracy: 0.8582\n",
            "Epoch 18/25\n",
            "49/49 [==============================] - 14s 290ms/step - loss: 0.2997 - accuracy: 0.8729\n",
            "Epoch 19/25\n",
            "49/49 [==============================] - 14s 293ms/step - loss: 0.2739 - accuracy: 0.8842\n",
            "Epoch 20/25\n",
            "49/49 [==============================] - 14s 289ms/step - loss: 0.2511 - accuracy: 0.8942\n",
            "Epoch 21/25\n",
            "49/49 [==============================] - 14s 288ms/step - loss: 0.2321 - accuracy: 0.9026\n",
            "Epoch 22/25\n",
            "49/49 [==============================] - 15s 310ms/step - loss: 0.2140 - accuracy: 0.9120\n",
            "Epoch 23/25\n",
            "49/49 [==============================] - 14s 287ms/step - loss: 0.1964 - accuracy: 0.9223\n",
            "Epoch 24/25\n",
            "49/49 [==============================] - 14s 290ms/step - loss: 0.1834 - accuracy: 0.9243\n",
            "Epoch 25/25\n",
            "49/49 [==============================] - 14s 286ms/step - loss: 0.1715 - accuracy: 0.9304\n"
          ]
        },
        {
          "output_type": "execute_result",
          "data": {
            "text/plain": [
              "<keras.callbacks.History at 0x7fa77038a950>"
            ]
          },
          "metadata": {},
          "execution_count": 107
        }
      ]
    },
    {
      "cell_type": "code",
      "source": [
        "loss, accuracy = model.evaluate(test_x,test_y , verbose=0)\n",
        "print('Accuracy: %f' % (accuracy*100))"
      ],
      "metadata": {
        "id": "kUe2GqkHhJ5-"
      },
      "execution_count": null,
      "outputs": []
    },
    {
      "cell_type": "code",
      "source": [
        "# Preprocessing For Custom Text Input\n",
        "from math import *\n",
        "sentence_length=100\n",
        "word_index=imdb.get_word_index()\n",
        "tokenizer=Tokenizer()\n",
        "tokenizer.word_index = word_index"
      ],
      "metadata": {
        "id": "PM1Dpv1Cpv9O"
      },
      "execution_count": 100,
      "outputs": []
    },
    {
      "cell_type": "markdown",
      "source": [
        "## Custom Text Input"
      ],
      "metadata": {
        "id": "c7FPLImE3guf"
      }
    },
    {
      "cell_type": "code",
      "source": [
        "# Custom Text Input\n",
        "text=[input(\"Enter Your Review: \")]\n",
        "sequences=tokenizer.texts_to_sequences(text)\n",
        "text=pad_sequences(sequences,maxlen=sentence_length,padding=\"post\")\n",
        "\n",
        "# Running Prediction\n",
        "prediction=model.predict(text)\n",
        "\n",
        "# Prediction Classification\n",
        "if prediction < 0.4:\n",
        "  print(\"Negative\") \n",
        "elif prediction>=0.4 and prediction <=0.6:\n",
        "  print(\"Neutral\")\n",
        "elif prediction >0.6:\n",
        "  print(\"Positive\")\n",
        "print(prediction)\n",
        "\n",
        "# prediction\n",
        "# what the hell is this movie absolutely terrible"
      ],
      "metadata": {
        "colab": {
          "base_uri": "https://localhost:8080/"
        },
        "id": "P9_eZk-_2gSZ",
        "outputId": "3411b402-a973-475d-d903-34164cfeb86f"
      },
      "execution_count": 103,
      "outputs": [
        {
          "output_type": "stream",
          "name": "stdout",
          "text": [
            "Enter Your Review: bad very bad movie \n",
            "1/1 [==============================] - 0s 39ms/step\n",
            "Neutral\n",
            "[[0.5825442]]\n"
          ]
        }
      ]
    },
    {
      "cell_type": "markdown",
      "source": [
        "## Length Hyperparameters"
      ],
      "metadata": {
        "id": "tP7ubUHiM3Us"
      }
    },
    {
      "cell_type": "code",
      "source": [
        "vocab_size = 50\n",
        "sentence_length=8\n",
        "vector_dimension=10"
      ],
      "metadata": {
        "id": "PTxUEVTAMekw"
      },
      "execution_count": 7,
      "outputs": []
    },
    {
      "cell_type": "markdown",
      "source": [
        "## One Hot Encoding and Padding "
      ],
      "metadata": {
        "id": "h1mJ0z7IM-tn"
      }
    },
    {
      "cell_type": "code",
      "source": [
        "encoded_docs = [one_hot(d, vocab_size) for d in docs]\n",
        "padded_docs = pad_sequences(encoded_docs, maxlen=sentence_length, padding='post')"
      ],
      "metadata": {
        "id": "wgM3GDNPKKes"
      },
      "execution_count": 13,
      "outputs": []
    },
    {
      "cell_type": "markdown",
      "source": [
        "## Model Building"
      ],
      "metadata": {
        "id": "F1kV70R5L70k"
      }
    },
    {
      "cell_type": "code",
      "source": [
        "model = Sequential()\n",
        "\n",
        "# Embedding Input\n",
        "model.add(Embedding(vocab_size, vector_dimension, input_length=sentence_length))\n",
        "\n",
        "# Flatenning Model\n",
        "model.add(Flatten())\n",
        "model.add(Dense(1, activation='sigmoid'))"
      ],
      "metadata": {
        "id": "50io1cb9Lhqm"
      },
      "execution_count": null,
      "outputs": []
    },
    {
      "cell_type": "code",
      "source": [
        "model.compile(optimizer='adam', loss='binary_crossentropy', metrics=['accuracy'])\n",
        "history=model.fit(padded_docs, labels, epochs=50, verbose=0)"
      ],
      "metadata": {
        "id": "BOUcc1yFLcDD"
      },
      "execution_count": null,
      "outputs": []
    },
    {
      "cell_type": "code",
      "source": [
        "loss, accuracy = model.evaluate(padded_docs, labels, verbose=0)\n",
        "print('Accuracy: %f' % (accuracy*100))"
      ],
      "metadata": {
        "id": "UR1FDw_aLxk1"
      },
      "execution_count": null,
      "outputs": []
    }
  ]
}