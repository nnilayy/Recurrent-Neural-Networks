{
  "nbformat": 4,
  "nbformat_minor": 0,
  "metadata": {
    "colab": {
      "provenance": [],
      "authorship_tag": "ABX9TyOS0V1n1tdG+DYgCM9Z4Nfv",
      "include_colab_link": true
    },
    "kernelspec": {
      "name": "python3",
      "display_name": "Python 3"
    },
    "language_info": {
      "name": "python"
    },
    "accelerator": "GPU",
    "gpuClass": "standard"
  },
  "cells": [
    {
      "cell_type": "markdown",
      "metadata": {
        "id": "view-in-github",
        "colab_type": "text"
      },
      "source": [
        "<a href=\"https://colab.research.google.com/github/nnilayy/Recurrent-Neural-Networks/blob/main/Sentiment_Analysis.ipynb\" target=\"_parent\"><img src=\"https://colab.research.google.com/assets/colab-badge.svg\" alt=\"Open In Colab\"/></a>"
      ]
    },
    {
      "cell_type": "markdown",
      "source": [
        "##  Libraries"
      ],
      "metadata": {
        "id": "TL84bJY1Nmy9"
      }
    },
    {
      "cell_type": "code",
      "execution_count": 26,
      "metadata": {
        "id": "hRxjSv1eKGMl"
      },
      "outputs": [],
      "source": [
        "import tensorflow as tf\n",
        "from numpy import array\n",
        "from keras.preprocessing.text import one_hot\n",
        "from keras.utils import pad_sequences\n",
        "from keras.models import Sequential\n",
        "from keras.layers import Dense\n",
        "from keras.layers import Flatten\n",
        "from tensorflow.keras.layers import Embedding\n",
        "from tensorflow.keras.datasets import imdb\n",
        "from keras.preprocessing.text import Tokenizer"
      ]
    },
    {
      "cell_type": "markdown",
      "source": [
        "## Dataset"
      ],
      "metadata": {
        "id": "SfLC5FcANJr3"
      }
    },
    {
      "cell_type": "code",
      "source": [
        "(train_x,train_y),(test_x,test_y)=imdb.load_data(num_words=1000)"
      ],
      "metadata": {
        "id": "UGa3TXE9NMf2"
      },
      "execution_count": 63,
      "outputs": []
    },
    {
      "cell_type": "code",
      "source": [
        "print(\"Review is: \",train_x[5])\n",
        "print(\"Label is: \",train_y[5])"
      ],
      "metadata": {
        "id": "dgD6SlNufLAh"
      },
      "execution_count": null,
      "outputs": []
    },
    {
      "cell_type": "code",
      "source": [
        "# You Preprocess just on Features [X]\n",
        "sentence_length=100\n",
        "train_x=pad_sequences(train_x,maxlen=sentence_length,padding=\"post\")\n",
        "test_x=pad_sequences(test_x,maxlen=sentence_length,padding=\"post\")"
      ],
      "metadata": {
        "id": "QaSIE9rNfiRP"
      },
      "execution_count": 65,
      "outputs": []
    },
    {
      "cell_type": "code",
      "source": [
        "from keras.layers.rnn.simple_rnn import SimpleRNN\n",
        "model = Sequential()\n",
        "model.add(Embedding(1000, 64, input_length=100))\n",
        "model.add(SimpleRNN(128,return_sequences=True))\n",
        "model.add(SimpleRNN(64,return_sequences=True))\n",
        "model.add(SimpleRNN(32))\n",
        "model.add(Flatten())\n",
        "model.add(Dense(1, activation='sigmoid'))\n",
        "model.summary()"
      ],
      "metadata": {
        "id": "Yh1eaO9tgfmJ"
      },
      "execution_count": null,
      "outputs": []
    },
    {
      "cell_type": "code",
      "source": [
        "model.compile(optimizer='rmsprop', loss='binary_crossentropy', metrics=['accuracy'])"
      ],
      "metadata": {
        "id": "U0fd0ivyhJ5-"
      },
      "execution_count": 93,
      "outputs": []
    },
    {
      "cell_type": "code",
      "source": [
        "model.fit(train_x, train_y, epochs=25, batch_size=512)"
      ],
      "metadata": {
        "colab": {
          "base_uri": "https://localhost:8080/"
        },
        "id": "-7zVTJSbkb_8",
        "outputId": "1feb1037-9b89-4a36-882e-558e1c3c35c8"
      },
      "execution_count": null,
      "outputs": [
        {
          "output_type": "stream",
          "name": "stderr",
          "text": [
            "Exception ignored in: <function _xla_gc_callback at 0x7fa7a41997e0>\n",
            "Traceback (most recent call last):\n",
            "  File \"/usr/local/lib/python3.10/dist-packages/jax/_src/lib/__init__.py\", line 97, in _xla_gc_callback\n",
            "    def _xla_gc_callback(*args):\n",
            "KeyboardInterrupt: \n"
          ]
        },
        {
          "output_type": "stream",
          "name": "stdout",
          "text": [
            "49/49 [==============================] - 92s 308ms/step - loss: 0.1767 - accuracy: 0.9273\n",
            "Epoch 2/25\n",
            "49/49 [==============================] - 14s 294ms/step - loss: 0.1241 - accuracy: 0.9488\n",
            "Epoch 3/25\n",
            "49/49 [==============================] - 14s 293ms/step - loss: 0.1172 - accuracy: 0.9534\n",
            "Epoch 4/25\n",
            "49/49 [==============================] - 16s 314ms/step - loss: 0.1096 - accuracy: 0.9560\n",
            "Epoch 5/25\n",
            "49/49 [==============================] - 15s 300ms/step - loss: 0.1072 - accuracy: 0.9566\n",
            "Epoch 6/25\n",
            "49/49 [==============================] - 14s 292ms/step - loss: 0.0977 - accuracy: 0.9610\n",
            "Epoch 7/25\n",
            "49/49 [==============================] - 14s 292ms/step - loss: 0.0903 - accuracy: 0.9646\n",
            "Epoch 8/25\n",
            "49/49 [==============================] - 14s 295ms/step - loss: 0.0905 - accuracy: 0.9642\n",
            "Epoch 9/25\n",
            "49/49 [==============================] - 15s 307ms/step - loss: 0.0818 - accuracy: 0.9667\n",
            "Epoch 10/25\n",
            "49/49 [==============================] - 15s 299ms/step - loss: 0.0788 - accuracy: 0.9684\n",
            "Epoch 11/25\n",
            " 9/49 [====>.........................] - ETA: 10s - loss: 0.0573 - accuracy: 0.9774"
          ]
        }
      ]
    },
    {
      "cell_type": "code",
      "source": [
        "loss, accuracy = model.evaluate(test_x,test_y , verbose=0)\n",
        "print('Accuracy: %f' % (accuracy*100))"
      ],
      "metadata": {
        "id": "kUe2GqkHhJ5-"
      },
      "execution_count": null,
      "outputs": []
    },
    {
      "cell_type": "code",
      "source": [
        "# Preprocessing For Custom Text Input\n",
        "from math import *\n",
        "sentence_length=100\n",
        "word_index=imdb.get_word_index()\n",
        "tokenizer=Tokenizer()\n",
        "tokenizer.word_index = word_index"
      ],
      "metadata": {
        "id": "PM1Dpv1Cpv9O"
      },
      "execution_count": 86,
      "outputs": []
    },
    {
      "cell_type": "markdown",
      "source": [
        "## Custom Text Input"
      ],
      "metadata": {
        "id": "c7FPLImE3guf"
      }
    },
    {
      "cell_type": "code",
      "source": [
        "# Custom Text Input\n",
        "text=[input(\"Enter Your Review: \")]\n",
        "sequences=tokenizer.texts_to_sequences(text)\n",
        "text=pad_sequences(sequences,maxlen=sentence_length,padding=\"post\")\n",
        "\n",
        "# Running Prediction\n",
        "prediction=model.predict(text)\n",
        "\n",
        "# Prediction Classification\n",
        "if prediction < 0.4:\n",
        "  print(\"Negative\") \n",
        "elif prediction>=0.4 and prediction <=0.6:\n",
        "  print(\"Neutral\")\n",
        "elif prediction >0.6:\n",
        "  print(\"Positive\")\n",
        "print(prediction)\n",
        "\n",
        "# prediction\n",
        "# what the hell is this movie absolutely terrible"
      ],
      "metadata": {
        "colab": {
          "base_uri": "https://localhost:8080/"
        },
        "id": "P9_eZk-_2gSZ",
        "outputId": "e5078eb8-1c89-4a86-d12c-fc45b4468de0"
      },
      "execution_count": 90,
      "outputs": [
        {
          "output_type": "stream",
          "name": "stdout",
          "text": [
            "Enter Your Review: good movie \n",
            "1/1 [==============================] - 0s 38ms/step\n",
            "Neutral\n",
            "[[0.58576983]]\n"
          ]
        }
      ]
    },
    {
      "cell_type": "markdown",
      "source": [
        "## Length Hyperparameters"
      ],
      "metadata": {
        "id": "tP7ubUHiM3Us"
      }
    },
    {
      "cell_type": "code",
      "source": [
        "vocab_size = 50\n",
        "sentence_length=8\n",
        "vector_dimension=10"
      ],
      "metadata": {
        "id": "PTxUEVTAMekw"
      },
      "execution_count": 7,
      "outputs": []
    },
    {
      "cell_type": "markdown",
      "source": [
        "## One Hot Encoding and Padding "
      ],
      "metadata": {
        "id": "h1mJ0z7IM-tn"
      }
    },
    {
      "cell_type": "code",
      "source": [
        "encoded_docs = [one_hot(d, vocab_size) for d in docs]\n",
        "padded_docs = pad_sequences(encoded_docs, maxlen=sentence_length, padding='post')"
      ],
      "metadata": {
        "id": "wgM3GDNPKKes"
      },
      "execution_count": 13,
      "outputs": []
    },
    {
      "cell_type": "markdown",
      "source": [
        "## Model Building"
      ],
      "metadata": {
        "id": "F1kV70R5L70k"
      }
    },
    {
      "cell_type": "code",
      "source": [
        "model = Sequential()\n",
        "\n",
        "# Embedding Input\n",
        "model.add(Embedding(vocab_size, vector_dimension, input_length=sentence_length))\n",
        "\n",
        "# Flatenning Model\n",
        "model.add(Flatten())\n",
        "model.add(Dense(1, activation='sigmoid'))"
      ],
      "metadata": {
        "id": "50io1cb9Lhqm"
      },
      "execution_count": null,
      "outputs": []
    },
    {
      "cell_type": "code",
      "source": [
        "model.compile(optimizer='adam', loss='binary_crossentropy', metrics=['accuracy'])\n",
        "history=model.fit(padded_docs, labels, epochs=50, verbose=0)"
      ],
      "metadata": {
        "id": "BOUcc1yFLcDD"
      },
      "execution_count": null,
      "outputs": []
    },
    {
      "cell_type": "code",
      "source": [
        "loss, accuracy = model.evaluate(padded_docs, labels, verbose=0)\n",
        "print('Accuracy: %f' % (accuracy*100))"
      ],
      "metadata": {
        "id": "UR1FDw_aLxk1"
      },
      "execution_count": null,
      "outputs": []
    }
  ]
}